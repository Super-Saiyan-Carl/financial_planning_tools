{
 "cells": [
  {
   "cell_type": "markdown",
   "metadata": {},
   "source": [
    "# Financial Planning with APIs and Simulations\n",
    "\n",
    "In this Challenge, you’ll create two financial analysis tools by using a single Jupyter notebook:\n",
    "\n",
    "Part 1: A financial planner for emergencies. The members will be able to use this tool to visualize their current savings. The members can then determine if they have enough reserves for an emergency fund.\n",
    "\n",
    "Part 2: A financial planner for retirement. This tool will forecast the performance of their retirement portfolio in 30 years. To do this, the tool will make an Alpaca API call via the Alpaca SDK to get historical price data for use in Monte Carlo simulations.\n",
    "\n",
    "You’ll use the information from the Monte Carlo simulation to answer questions about the portfolio in your Jupyter notebook.\n",
    "\n"
   ]
  },
  {
   "cell_type": "code",
   "execution_count": 1,
   "metadata": {},
   "outputs": [],
   "source": [
    "# Import the required libraries and dependencies\n",
    "import os\n",
    "import requests\n",
    "import json\n",
    "import pandas as pd\n",
    "from dotenv import load_dotenv\n",
    "import alpaca_trade_api as tradeapi\n",
    "from MCForecastTools import MCSimulation\n",
    "from warnings import simplefilter\n",
    "simplefilter(action=\"ignore\", category=pd.errors.PerformanceWarning)\n",
    "\n",
    "%matplotlib inline"
   ]
  },
  {
   "cell_type": "code",
   "execution_count": 2,
   "metadata": {},
   "outputs": [
    {
     "data": {
      "text/plain": [
       "True"
      ]
     },
     "execution_count": 2,
     "metadata": {},
     "output_type": "execute_result"
    }
   ],
   "source": [
    "# Load the environment variables from the .env file\n",
    "#by calling the load_dotenv function\n",
    "load_dotenv()"
   ]
  },
  {
   "cell_type": "markdown",
   "metadata": {},
   "source": [
    "## Part 1: Create a Financial Planner for Emergencies"
   ]
  },
  {
   "cell_type": "markdown",
   "metadata": {},
   "source": [
    "### Evaluate the Cryptocurrency Wallet by Using the Requests Library\n",
    "\n",
    "In this section, you’ll determine the current value of a member’s cryptocurrency wallet. You’ll collect the current prices for the Bitcoin and Ethereum cryptocurrencies by using the Python Requests library. For the prototype, you’ll assume that the member holds the 1.2 Bitcoins (BTC) and 5.3 Ethereum coins (ETH). To do all this, complete the following steps:\n",
    "\n",
    "1. Create a variable named `monthly_income`, and set its value to `12000`.\n",
    "\n",
    "2. Use the Requests library to get the current price (in US dollars) of Bitcoin (BTC) and Ethereum (ETH) by using the API endpoints that the starter code supplies.\n",
    "\n",
    "3. Navigate the JSON response object to access the current price of each coin, and store each in a variable.\n",
    "\n",
    "    > **Hint** Note the specific identifier for each cryptocurrency in the API JSON response. The Bitcoin identifier is `1`, and the Ethereum identifier is `1027`.\n",
    "\n",
    "4. Calculate the value, in US dollars, of the current amount of each cryptocurrency and of the entire cryptocurrency wallet.\n",
    "\n"
   ]
  },
  {
   "cell_type": "code",
   "execution_count": 3,
   "metadata": {},
   "outputs": [],
   "source": [
    "# The current number of coins for each cryptocurrency asset held in the portfolio.\n",
    "btc_coins = 1.2\n",
    "eth_coins = 5.3"
   ]
  },
  {
   "cell_type": "markdown",
   "metadata": {},
   "source": [
    "#### Step 1: Create a variable named `monthly_income`, and set its value to `12000`."
   ]
  },
  {
   "cell_type": "code",
   "execution_count": 4,
   "metadata": {},
   "outputs": [],
   "source": [
    "# The monthly amount for the member's household income\n",
    "monthly_income = 12000\n"
   ]
  },
  {
   "cell_type": "markdown",
   "metadata": {},
   "source": [
    "#### Review the endpoint URLs for the API calls to Free Crypto API in order to get the current pricing information for both BTC and ETH."
   ]
  },
  {
   "cell_type": "code",
   "execution_count": 5,
   "metadata": {},
   "outputs": [],
   "source": [
    "# The Free Crypto API Call endpoint URLs for the held cryptocurrency assets\n",
    "btc_url = \"https://api.alternative.me/v2/ticker/Bitcoin/?convert=USD\"\n",
    "eth_url = \"https://api.alternative.me/v2/ticker/Ethereum/?convert=USD\""
   ]
  },
  {
   "cell_type": "markdown",
   "metadata": {},
   "source": [
    "#### Step 2. Use the Requests library to get the current price (in US dollars) of Bitcoin (BTC) and Ethereum (ETH) by using the API endpoints that the starter code supplied."
   ]
  },
  {
   "cell_type": "code",
   "execution_count": 6,
   "metadata": {},
   "outputs": [
    {
     "name": "stdout",
     "output_type": "stream",
     "text": [
      "{\n",
      "  \"data\": {\n",
      "    \"1\": {\n",
      "      \"circulating_supply\": 19110700,\n",
      "      \"id\": 1,\n",
      "      \"last_updated\": 1659476028,\n",
      "      \"max_supply\": 21000000,\n",
      "      \"name\": \"Bitcoin\",\n",
      "      \"quotes\": {\n",
      "        \"USD\": {\n",
      "          \"market_cap\": 439636603791,\n",
      "          \"percent_change_1h\": -0.10348199880361,\n",
      "          \"percent_change_24h\": -0.151155428479535,\n",
      "          \"percent_change_7d\": 7.84971400299847,\n",
      "          \"percentage_change_1h\": -0.10348199880361,\n",
      "          \"percentage_change_24h\": -0.151155428479535,\n",
      "          \"percentage_change_7d\": 7.84971400299847,\n",
      "          \"price\": 23005.0,\n",
      "          \"volume_24h\": 35758335924\n",
      "        }\n",
      "      },\n",
      "      \"rank\": 1,\n",
      "      \"symbol\": \"BTC\",\n",
      "      \"total_supply\": 19110700,\n",
      "      \"website_slug\": \"bitcoin\"\n",
      "    }\n",
      "  },\n",
      "  \"metadata\": {\n",
      "    \"error\": null,\n",
      "    \"num_cryptocurrencies\": 3116,\n",
      "    \"timestamp\": 1659476028\n",
      "  }\n",
      "}\n"
     ]
    }
   ],
   "source": [
    "# Using the Python requests library, make an API call to access the current price of BTC\n",
    "btc_response = requests.get(btc_url).json()\n",
    "\n",
    "# Use the json.dumps function to review the response data from the API call\n",
    "# Use the indent and sort_keys parameters to make the response object readable\n",
    "print(json.dumps(btc_response, indent=2, sort_keys=True))\n"
   ]
  },
  {
   "cell_type": "code",
   "execution_count": 7,
   "metadata": {},
   "outputs": [
    {
     "name": "stdout",
     "output_type": "stream",
     "text": [
      "{\n",
      "  \"data\": {\n",
      "    \"1027\": {\n",
      "      \"circulating_supply\": 119934348,\n",
      "      \"id\": 1027,\n",
      "      \"last_updated\": 1659476077,\n",
      "      \"max_supply\": 119934348,\n",
      "      \"name\": \"Ethereum\",\n",
      "      \"quotes\": {\n",
      "        \"USD\": {\n",
      "          \"market_cap\": 196659576057,\n",
      "          \"percent_change_1h\": -0.652324925747311,\n",
      "          \"percent_change_24h\": 0.98484178014992,\n",
      "          \"percent_change_7d\": 13.1229241243819,\n",
      "          \"percentage_change_1h\": -0.652324925747311,\n",
      "          \"percentage_change_24h\": 0.98484178014992,\n",
      "          \"percentage_change_7d\": 13.1229241243819,\n",
      "          \"price\": 1640.83,\n",
      "          \"volume_24h\": 19739755063\n",
      "        }\n",
      "      },\n",
      "      \"rank\": 2,\n",
      "      \"symbol\": \"ETH\",\n",
      "      \"total_supply\": 119934348,\n",
      "      \"website_slug\": \"ethereum\"\n",
      "    }\n",
      "  },\n",
      "  \"metadata\": {\n",
      "    \"error\": null,\n",
      "    \"num_cryptocurrencies\": 3116,\n",
      "    \"timestamp\": 1659476077\n",
      "  }\n",
      "}\n"
     ]
    }
   ],
   "source": [
    "# Using the Python requests library, make an API call to access the current price ETH\n",
    "eth_response = requests.get(eth_url).json()\n",
    "\n",
    "# Use the json.dumps function to review the response data from the API call\n",
    "# Use the indent and sort_keys parameters to make the response object readable\n",
    "print(json.dumps(eth_response, indent=2, sort_keys=True))"
   ]
  },
  {
   "cell_type": "markdown",
   "metadata": {},
   "source": [
    "#### Step 3: Navigate the JSON response object to access the current price of each coin, and store each in a variable."
   ]
  },
  {
   "cell_type": "code",
   "execution_count": 8,
   "metadata": {},
   "outputs": [
    {
     "name": "stdout",
     "output_type": "stream",
     "text": [
      "The price for BTC is $23005.0\n"
     ]
    }
   ],
   "source": [
    "# Navigate the BTC response object to access the current price of BTC\n",
    "btc_price =  btc_response['data']['1']['quotes']['USD']['price']\n",
    "\n",
    "# Print the current price of BTC\n",
    "print(f\"The price for BTC is ${btc_price}\")"
   ]
  },
  {
   "cell_type": "code",
   "execution_count": 9,
   "metadata": {},
   "outputs": [
    {
     "name": "stdout",
     "output_type": "stream",
     "text": [
      "The price for ETH is $1640.83\n"
     ]
    }
   ],
   "source": [
    "# Navigate the BTC response object to access the current price of ETH\n",
    "eth_price = eth_response['data']['1027']['quotes']['USD']['price']\n",
    "\n",
    "# Print the current price of ETH\n",
    "print(f\"The price for ETH is ${eth_price}\")"
   ]
  },
  {
   "cell_type": "markdown",
   "metadata": {},
   "source": [
    "### Step 4: Calculate the value, in US dollars, of the current amount of each cryptocurrency and of the entire cryptocurrency wallet."
   ]
  },
  {
   "cell_type": "code",
   "execution_count": 10,
   "metadata": {},
   "outputs": [
    {
     "name": "stdout",
     "output_type": "stream",
     "text": [
      "The current BTC value for the cryptocurrency wallet is $27606.0\n"
     ]
    }
   ],
   "source": [
    "# Compute the current value of the BTC holding \n",
    "btc_value = btc_coins*btc_price\n",
    "\n",
    "# Print current value of your holding in BTC\n",
    "print(f\"The current BTC value for the cryptocurrency wallet is ${btc_value}\")"
   ]
  },
  {
   "cell_type": "code",
   "execution_count": 11,
   "metadata": {},
   "outputs": [
    {
     "name": "stdout",
     "output_type": "stream",
     "text": [
      "The current ETH value for the cryptocurrency wallet is $8696.399\n"
     ]
    }
   ],
   "source": [
    "# Compute the current value of the ETH holding \n",
    "eth_value = eth_coins*eth_price\n",
    "\n",
    "# Print current value of your holding in ETH\n",
    "print(f\"The current ETH value for the cryptocurrency wallet is ${eth_value}\")\n"
   ]
  },
  {
   "cell_type": "code",
   "execution_count": 12,
   "metadata": {},
   "outputs": [
    {
     "name": "stdout",
     "output_type": "stream",
     "text": [
      "The current cryptocurrency wallet balance is $36302.399\n"
     ]
    }
   ],
   "source": [
    "# Compute the total value of the cryptocurrency wallet\n",
    "# Add the value of the BTC holding to the value of the ETH holding\n",
    "total_crypto_wallet = btc_value+eth_value\n",
    "\n",
    "# Print current cryptocurrency wallet balance\n",
    "print(f\"The current cryptocurrency wallet balance is ${total_crypto_wallet}\")"
   ]
  },
  {
   "cell_type": "markdown",
   "metadata": {},
   "source": [
    "### Evaluate the Stock and Bond Holdings by Using the Alpaca SDK\n",
    "\n",
    "In this section, you’ll determine the current value of a member’s stock and bond holdings. You’ll make an API call to Alpaca via the Alpaca SDK to get the current closing prices of the SPDR S&P 500 ETF Trust (ticker: SPY) and of the iShares Core US Aggregate Bond ETF (ticker: AGG). For the prototype, assume that the member holds 110 shares of SPY, which represents the stock portion of their portfolio, and 200 shares of AGG, which represents the bond portion. To do all this, complete the following steps:\n",
    "\n",
    "1. In the `Starter_Code` folder, create an environment file (`.env`) to store the values of your Alpaca API key and Alpaca secret key.\n",
    "\n",
    "2. Set the variables for the Alpaca API and secret keys. Using the Alpaca SDK, create the Alpaca `tradeapi.REST` object. In this object, include the parameters for the Alpaca API key, the secret key, and the version number.\n",
    "\n",
    "3. Set the following parameters for the Alpaca API call:\n",
    "\n",
    "    - `tickers`: Use the tickers for the member’s stock and bond holdings.\n",
    "\n",
    "    - `timeframe`: Use a time frame of one day.\n",
    "\n",
    "    - `start_date` and `end_date`: Use the same date for these parameters, and format them with the date of the previous weekday (or `2020-08-07`). This is because you want the one closing price for the most-recent trading day.\n",
    "\n",
    "4. Get the current closing prices for `SPY` and `AGG` by using the Alpaca `get_bars` function. Format the response as a Pandas DataFrame by including the `df` property at the end of the `get_bars` function.\n",
    "\n",
    "5. Navigating the Alpaca response DataFrame, select the `SPY` and `AGG` closing prices, and store them as variables.\n",
    "\n",
    "6. Calculate the value, in US dollars, of the current amount of shares in each of the stock and bond portions of the portfolio, and print the results.\n"
   ]
  },
  {
   "cell_type": "markdown",
   "metadata": {},
   "source": [
    "#### Review the total number of shares held in both (SPY) and (AGG)."
   ]
  },
  {
   "cell_type": "code",
   "execution_count": 13,
   "metadata": {},
   "outputs": [],
   "source": [
    "# Current amount of shares held in both the stock (SPY) and bond (AGG) portion of the portfolio.\n",
    "spy_shares = 110\n",
    "agg_shares = 200\n"
   ]
  },
  {
   "cell_type": "markdown",
   "metadata": {},
   "source": [
    "#### Step 1: In the `Starter_Code` folder, create an environment file (`.env`) to store the values of your Alpaca API key and Alpaca secret key."
   ]
  },
  {
   "cell_type": "markdown",
   "metadata": {},
   "source": [
    "#### Step 2: Set the variables for the Alpaca API and secret keys. Using the Alpaca SDK, create the Alpaca `tradeapi.REST` object. In this object, include the parameters for the Alpaca API key, the secret key, and the version number."
   ]
  },
  {
   "cell_type": "code",
   "execution_count": 14,
   "metadata": {},
   "outputs": [
    {
     "data": {
      "text/plain": [
       "str"
      ]
     },
     "metadata": {},
     "output_type": "display_data"
    },
    {
     "data": {
      "text/plain": [
       "str"
      ]
     },
     "metadata": {},
     "output_type": "display_data"
    }
   ],
   "source": [
    "# Set the variables for the Alpaca API and secret keys\n",
    "alpaca_api_key = os.getenv(\"ALPACA_API_KEY\")\n",
    "alpaca_secret_key = os.getenv(\"ALPACA_SECRET_KEY\")\n",
    "\n",
    "display(type(alpaca_api_key))\n",
    "display(type(alpaca_secret_key))\n",
    "\n",
    "# Create the Alpaca tradeapi.REST object\n",
    "alpaca = tradeapi.REST(\n",
    "    alpaca_api_key,\n",
    "    alpaca_secret_key,\n",
    "    api_version=\"v2\")"
   ]
  },
  {
   "cell_type": "markdown",
   "metadata": {},
   "source": [
    "#### Step 3: Set the following parameters for the Alpaca API call:\n",
    "\n",
    "- `tickers`: Use the tickers for the member’s stock and bond holdings.\n",
    "\n",
    "- `timeframe`: Use a time frame of one day.\n",
    "\n",
    "- `start_date` and `end_date`: Use the same date for these parameters, and format them with the date of the previous weekday (or `2020-08-07`). This is because you want the one closing price for the most-recent trading day.\n"
   ]
  },
  {
   "cell_type": "code",
   "execution_count": 15,
   "metadata": {},
   "outputs": [],
   "source": [
    "# Set the tickers for both the bond and stock portion of the portfolio\n",
    "tickers = [\"SPY\",\"AGG\"]\n",
    "\n",
    "# Set timeframe to 1Day\n",
    "timeframe = \"1Day\"\n",
    "\n",
    "# Format current date as ISO format\n",
    "# Set both the start and end date at the date of your prior weekday \n",
    "# This will give you the closing price of the previous trading day\n",
    "# Alternatively you can use a start and end date of 2020-08-07\n",
    "start_date = pd.Timestamp(\"2022-07-29\", tz=\"America/New_York\").isoformat()\n",
    "end_date = pd.Timestamp(\"2022-07-29\", tz=\"America/New_York\").isoformat()\n"
   ]
  },
  {
   "cell_type": "markdown",
   "metadata": {},
   "source": [
    "#### Step 4: Get the current closing prices for `SPY` and `AGG` by using the Alpaca `get_bars` function. Format the response as a Pandas DataFrame by including the `df` property at the end of the `get_bars` function."
   ]
  },
  {
   "cell_type": "code",
   "execution_count": 16,
   "metadata": {},
   "outputs": [
    {
     "data": {
      "text/html": [
       "<div>\n",
       "<style scoped>\n",
       "    .dataframe tbody tr th:only-of-type {\n",
       "        vertical-align: middle;\n",
       "    }\n",
       "\n",
       "    .dataframe tbody tr th {\n",
       "        vertical-align: top;\n",
       "    }\n",
       "\n",
       "    .dataframe thead tr th {\n",
       "        text-align: left;\n",
       "    }\n",
       "\n",
       "    .dataframe thead tr:last-of-type th {\n",
       "        text-align: right;\n",
       "    }\n",
       "</style>\n",
       "<table border=\"1\" class=\"dataframe\">\n",
       "  <thead>\n",
       "    <tr>\n",
       "      <th></th>\n",
       "      <th colspan=\"7\" halign=\"left\">SPY</th>\n",
       "      <th colspan=\"7\" halign=\"left\">AGG</th>\n",
       "    </tr>\n",
       "    <tr>\n",
       "      <th></th>\n",
       "      <th>open</th>\n",
       "      <th>high</th>\n",
       "      <th>low</th>\n",
       "      <th>close</th>\n",
       "      <th>volume</th>\n",
       "      <th>trade_count</th>\n",
       "      <th>vwap</th>\n",
       "      <th>open</th>\n",
       "      <th>high</th>\n",
       "      <th>low</th>\n",
       "      <th>close</th>\n",
       "      <th>volume</th>\n",
       "      <th>trade_count</th>\n",
       "      <th>vwap</th>\n",
       "    </tr>\n",
       "    <tr>\n",
       "      <th>timestamp</th>\n",
       "      <th></th>\n",
       "      <th></th>\n",
       "      <th></th>\n",
       "      <th></th>\n",
       "      <th></th>\n",
       "      <th></th>\n",
       "      <th></th>\n",
       "      <th></th>\n",
       "      <th></th>\n",
       "      <th></th>\n",
       "      <th></th>\n",
       "      <th></th>\n",
       "      <th></th>\n",
       "      <th></th>\n",
       "    </tr>\n",
       "  </thead>\n",
       "  <tbody>\n",
       "    <tr>\n",
       "      <th>2022-07-29 04:00:00+00:00</th>\n",
       "      <td>407.7</td>\n",
       "      <td>413.02</td>\n",
       "      <td>406.77</td>\n",
       "      <td>411.99</td>\n",
       "      <td>86779944</td>\n",
       "      <td>544810</td>\n",
       "      <td>410.668581</td>\n",
       "      <td>103.94</td>\n",
       "      <td>104.395</td>\n",
       "      <td>103.83</td>\n",
       "      <td>104.07</td>\n",
       "      <td>6523118</td>\n",
       "      <td>22800</td>\n",
       "      <td>104.156714</td>\n",
       "    </tr>\n",
       "  </tbody>\n",
       "</table>\n",
       "</div>"
      ],
      "text/plain": [
       "                             SPY                                    \\\n",
       "                            open    high     low   close    volume   \n",
       "timestamp                                                            \n",
       "2022-07-29 04:00:00+00:00  407.7  413.02  406.77  411.99  86779944   \n",
       "\n",
       "                                                      AGG                   \\\n",
       "                          trade_count        vwap    open     high     low   \n",
       "timestamp                                                                    \n",
       "2022-07-29 04:00:00+00:00      544810  410.668581  103.94  104.395  103.83   \n",
       "\n",
       "                                                                    \n",
       "                            close   volume trade_count        vwap  \n",
       "timestamp                                                           \n",
       "2022-07-29 04:00:00+00:00  104.07  6523118       22800  104.156714  "
      ]
     },
     "execution_count": 16,
     "metadata": {},
     "output_type": "execute_result"
    }
   ],
   "source": [
    "# Use the Alpaca get_bars function to get current closing prices the portfolio\n",
    "# Be sure to set the `df` property after the function to format the response object as a DataFrame\n",
    "prices_df = alpaca.get_bars(\n",
    "    tickers,\n",
    "    timeframe,\n",
    "    start=start_date,\n",
    "    end=end_date\n",
    ").df\n",
    "\n",
    "# Reorganize the DataFrame\n",
    "# Separate ticker data\n",
    "SPY = prices_df[prices_df['symbol']=='SPY'].drop('symbol', axis=1)\n",
    "AGG = prices_df[prices_df['symbol']=='AGG'].drop('symbol', axis=1)\n",
    "\n",
    "# Concatenate the ticker DataFrames\n",
    "prices_df = pd.concat([SPY, AGG], axis=1, keys=[\"SPY\", \"AGG\"])\n",
    "\n",
    "# Review the first 5 rows of the Alpaca DataFrame\n",
    "prices_df.head()\n"
   ]
  },
  {
   "cell_type": "markdown",
   "metadata": {},
   "source": [
    "#### Step 5: Navigating the Alpaca response DataFrame, select the `SPY` and `AGG` closing prices, and store them as variables."
   ]
  },
  {
   "cell_type": "code",
   "execution_count": 17,
   "metadata": {},
   "outputs": [
    {
     "name": "stdout",
     "output_type": "stream",
     "text": [
      "104.07\n"
     ]
    }
   ],
   "source": [
    "# Access the closing price for AGG from the Alpaca DataFrame\n",
    "# Converting the value to a floating point number\n",
    "agg_close_price = float(prices_df[\"AGG\"][\"close\"])\n",
    "\n",
    "# Print the AGG closing price\n",
    "print(agg_close_price)"
   ]
  },
  {
   "cell_type": "code",
   "execution_count": 18,
   "metadata": {
    "tags": []
   },
   "outputs": [
    {
     "name": "stdout",
     "output_type": "stream",
     "text": [
      "411.99\n"
     ]
    }
   ],
   "source": [
    "# Access the closing price for SPY from the Alpaca DataFrame\n",
    "# Converting the value to a floating point number\n",
    "spy_close_price = float(prices_df[\"SPY\"][\"close\"])\n",
    "\n",
    "# Print the SPY closing price\n",
    "print(spy_close_price)\n"
   ]
  },
  {
   "cell_type": "markdown",
   "metadata": {
    "tags": []
   },
   "source": [
    "#### Step 6: Calculate the value, in US dollars, of the current amount of shares in each of the stock and bond portions of the portfolio, and print the results."
   ]
  },
  {
   "cell_type": "code",
   "execution_count": 19,
   "metadata": {},
   "outputs": [
    {
     "name": "stdout",
     "output_type": "stream",
     "text": [
      "The current value of the bond portfolio is $ 20814.00.\n"
     ]
    }
   ],
   "source": [
    "# Calculate the current value of the bond portion of the portfolio\n",
    "agg_value = agg_shares*agg_close_price\n",
    "\n",
    "# Print the current value of the bond portfolio\n",
    "print(f\"The current value of the bond portfolio is ${agg_value: .2f}.\")\n"
   ]
  },
  {
   "cell_type": "code",
   "execution_count": 20,
   "metadata": {},
   "outputs": [
    {
     "name": "stdout",
     "output_type": "stream",
     "text": [
      "The current value of the stock portfolio is $ 45318.90.\n"
     ]
    }
   ],
   "source": [
    "# Calculate the current value of the stock portion of the portfolio\n",
    "spy_value = spy_shares*spy_close_price\n",
    "\n",
    "# Print the current value of the stock portfolio\n",
    "print(f\"The current value of the stock portfolio is ${spy_value: .2f}.\")\n"
   ]
  },
  {
   "cell_type": "code",
   "execution_count": 21,
   "metadata": {},
   "outputs": [
    {
     "name": "stdout",
     "output_type": "stream",
     "text": [
      "The current value of the stock and bondportfolio is $ 66132.90.\n"
     ]
    }
   ],
   "source": [
    "# Calculate the total value of the stock and bond portion of the portfolio\n",
    "total_stocks_bonds = agg_value + spy_value\n",
    "\n",
    "# Print the current balance of the stock and bond portion of the portfolio\n",
    "print(f\"The current value of the stock and bondportfolio is ${total_stocks_bonds: .2f}.\")\n"
   ]
  },
  {
   "cell_type": "code",
   "execution_count": 22,
   "metadata": {},
   "outputs": [
    {
     "name": "stdout",
     "output_type": "stream",
     "text": [
      "The current value of the member's entire savings portfolio is $ 102435.30.\n"
     ]
    }
   ],
   "source": [
    "# Calculate the total value of the member's entire savings portfolio\n",
    "# Add the value of the cryptocurrency walled to the value of the total stocks and bonds\n",
    "total_portfolio = total_crypto_wallet + total_stocks_bonds\n",
    "\n",
    "# Print current cryptocurrency wallet balance\n",
    "print(f\"The current value of the member's entire savings portfolio is ${total_portfolio: .2f}.\")\n"
   ]
  },
  {
   "cell_type": "markdown",
   "metadata": {},
   "source": [
    "### Evaluate the Emergency Fund\n",
    "\n",
    "In this section, you’ll use the valuations for the cryptocurrency wallet and for the stock and bond portions of the portfolio to determine if the credit union member has enough savings to build an emergency fund into their financial plan. To do this, complete the following steps:\n",
    "\n",
    "1. Create a Python list named `savings_data` that has two elements. The first element contains the total value of the cryptocurrency wallet. The second element contains the total value of the stock and bond portions of the portfolio.\n",
    "\n",
    "2. Use the `savings_data` list to create a Pandas DataFrame named `savings_df`, and then display this DataFrame. The function to create the DataFrame should take the following three parameters:\n",
    "\n",
    "    - `savings_data`: Use the list that you just created.\n",
    "\n",
    "    - `columns`: Set this parameter equal to a Python list with a single value called `amount`.\n",
    "\n",
    "    - `index`: Set this parameter equal to a Python list with the values of `crypto` and `stock/bond`.\n",
    "\n",
    "3. Use the `savings_df` DataFrame to plot a pie chart that visualizes the composition of the member’s portfolio. The y-axis of the pie chart uses `amount`. Be sure to add a title.\n",
    "\n",
    "4. Using Python, determine if the current portfolio has enough to create an emergency fund as part of the member’s financial plan. Ideally, an emergency fund should equal to three times the member’s monthly income. To do this, implement the following steps:\n",
    "\n",
    "    1. Create a variable named `emergency_fund_value`, and set it equal to three times the value of the member’s `monthly_income` of $12000. (You set this earlier in Part 1).\n",
    "\n",
    "    2. Create a series of three if statements to determine if the member’s total portfolio is large enough to fund the emergency portfolio:\n",
    "\n",
    "        1. If the total portfolio value is greater than the emergency fund value, display a message congratulating the member for having enough money in this fund.\n",
    "\n",
    "        2. Else if the total portfolio value is equal to the emergency fund value, display a message congratulating the member on reaching this important financial goal.\n",
    "\n",
    "        3. Else the total portfolio is less than the emergency fund value, so display a message showing how many dollars away the member is from reaching the goal. (Subtract the total portfolio value from the emergency fund value.)\n"
   ]
  },
  {
   "cell_type": "markdown",
   "metadata": {},
   "source": [
    "#### Step 1: Create a Python list named `savings_data` that has two elements. The first element contains the total value of the cryptocurrency wallet. The second element contains the total value of the stock and bond portions of the portfolio."
   ]
  },
  {
   "cell_type": "code",
   "execution_count": 23,
   "metadata": {},
   "outputs": [
    {
     "data": {
      "text/plain": [
       "[36302.399, 66132.9]"
      ]
     },
     "execution_count": 23,
     "metadata": {},
     "output_type": "execute_result"
    }
   ],
   "source": [
    "# Consolidate financial assets data into a Python list\n",
    "savings_data = [total_crypto_wallet, total_stocks_bonds]\n",
    "\n",
    "# Review the Python list savings_data\n",
    "savings_data\n",
    "    "
   ]
  },
  {
   "cell_type": "markdown",
   "metadata": {},
   "source": [
    "#### Step 2: Use the `savings_data` list to create a Pandas DataFrame named `savings_df`, and then display this DataFrame. The function to create the DataFrame should take the following three parameters:\n",
    "\n",
    "- `savings_data`: Use the list that you just created.\n",
    "\n",
    "- `columns`: Set this parameter equal to a Python list with a single value called `amount`.\n",
    "\n",
    "- `index`: Set this parameter equal to a Python list with the values of `crypto` and `stock/bond`.\n"
   ]
  },
  {
   "cell_type": "code",
   "execution_count": 24,
   "metadata": {},
   "outputs": [
    {
     "data": {
      "text/html": [
       "<div>\n",
       "<style scoped>\n",
       "    .dataframe tbody tr th:only-of-type {\n",
       "        vertical-align: middle;\n",
       "    }\n",
       "\n",
       "    .dataframe tbody tr th {\n",
       "        vertical-align: top;\n",
       "    }\n",
       "\n",
       "    .dataframe thead th {\n",
       "        text-align: right;\n",
       "    }\n",
       "</style>\n",
       "<table border=\"1\" class=\"dataframe\">\n",
       "  <thead>\n",
       "    <tr style=\"text-align: right;\">\n",
       "      <th></th>\n",
       "      <th>amount</th>\n",
       "    </tr>\n",
       "  </thead>\n",
       "  <tbody>\n",
       "    <tr>\n",
       "      <th>crypto</th>\n",
       "      <td>36302.399</td>\n",
       "    </tr>\n",
       "    <tr>\n",
       "      <th>stock/bond</th>\n",
       "      <td>66132.900</td>\n",
       "    </tr>\n",
       "  </tbody>\n",
       "</table>\n",
       "</div>"
      ],
      "text/plain": [
       "               amount\n",
       "crypto      36302.399\n",
       "stock/bond  66132.900"
      ]
     },
     "execution_count": 24,
     "metadata": {},
     "output_type": "execute_result"
    }
   ],
   "source": [
    "# Create a Pandas DataFrame called savings_df \n",
    "savings_df = pd.DataFrame(savings_data, columns=['amount'], index=['crypto', 'stock/bond'])\n",
    "\n",
    "# Display the savings_df DataFrame\n",
    "savings_df"
   ]
  },
  {
   "cell_type": "markdown",
   "metadata": {},
   "source": [
    "#### Step 3: Use the `savings_df` DataFrame to plot a pie chart that visualizes the composition of the member’s portfolio. The y-axis of the pie chart uses `amount`. Be sure to add a title."
   ]
  },
  {
   "cell_type": "code",
   "execution_count": 25,
   "metadata": {},
   "outputs": [
    {
     "data": {
      "text/plain": [
       "<AxesSubplot:title={'center':'Portfolio Composition - 2022-07-29'}, ylabel='amount'>"
      ]
     },
     "execution_count": 25,
     "metadata": {},
     "output_type": "execute_result"
    },
    {
     "data": {
      "image/png": "[encoded data removed]",
      "text/plain": [
       "<Figure size 432x288 with 1 Axes>"
      ]
     },
     "metadata": {},
     "output_type": "display_data"
    }
   ],
   "source": [
    "# Plot the total value of the member's portfolio (crypto and stock/bond) in a pie chart\n",
    "savings_df.plot.pie(y='amount', title='Portfolio Composition - 2022-07-29')\n"
   ]
  },
  {
   "cell_type": "markdown",
   "metadata": {},
   "source": [
    "#### Step 4: Using Python, determine if the current portfolio has enough to create an emergency fund as part of the member’s financial plan. Ideally, an emergency fund should equal to three times the member’s monthly income. To do this, implement the following steps:\n",
    "\n",
    "Step 1. Create a variable named `emergency_fund_value`, and set it equal to three times the value of the member’s `monthly_income` of 12000. (You set this earlier in Part 1).\n",
    "\n",
    "Step 2. Create a series of three if statements to determine if the member’s total portfolio is large enough to fund the emergency portfolio:\n",
    "\n",
    "* If the total portfolio value is greater than the emergency fund value, display a message congratulating the member for having enough money in this fund.\n",
    "\n",
    "* Else if the total portfolio value is equal to the emergency fund value, display a message congratulating the member on reaching this important financial goal.\n",
    "\n",
    "* Else the total portfolio is less than the emergency fund value, so display a message showing how many dollars away the member is from reaching the goal. (Subtract the total portfolio value from the emergency fund value.)\n"
   ]
  },
  {
   "cell_type": "markdown",
   "metadata": {},
   "source": [
    "##### Step 4-1: Create a variable named `emergency_fund_value`, and set it equal to three times the value of the member’s `monthly_income` of 12000. (You set this earlier in Part 1)."
   ]
  },
  {
   "cell_type": "code",
   "execution_count": 26,
   "metadata": {},
   "outputs": [
    {
     "data": {
      "text/plain": [
       "36000"
      ]
     },
     "execution_count": 26,
     "metadata": {},
     "output_type": "execute_result"
    }
   ],
   "source": [
    "# Create a variable named emergency_fund_value\n",
    "emergency_fund_value = monthly_income*3\n",
    "\n",
    "emergency_fund_value"
   ]
  },
  {
   "cell_type": "markdown",
   "metadata": {},
   "source": [
    "##### Step 4-2: Create a series of three if statements to determine if the member’s total portfolio is large enough to fund the emergency portfolio:\n",
    "\n",
    "* If the total portfolio value is greater than the emergency fund value, display a message congratulating the member for having enough money in this fund.\n",
    "\n",
    "* Else if the total portfolio value is equal to the emergency fund value, display a message congratulating the member on reaching this important financial goal.\n",
    "\n",
    "* Else the total portfolio is less than the emergency fund value, so display a message showing how many dollars away the member is from reaching the goal. (Subtract the total portfolio value from the emergency fund value.)"
   ]
  },
  {
   "cell_type": "code",
   "execution_count": 27,
   "metadata": {},
   "outputs": [
    {
     "name": "stdout",
     "output_type": "stream",
     "text": [
      "Congratulations, you have enough money for an appropriate size emergency fund!\n"
     ]
    }
   ],
   "source": [
    "# Evaluate the possibility of creating an emergency fund with 3 conditions:\n",
    "if total_portfolio > emergency_fund_value:\n",
    "    print(\"Congratulations, you have enough money for an appropriate size emergency fund!\")\n",
    "elif total_portfolio == emergency_fund_value:\n",
    "    print(\"Congratulations, you have reached an important financial goal of having an emergency fund.\")\n",
    "elif total_portfolio < emergency_fund_value:\n",
    "    print(\"Unfortunately, you are ${emergency_fund_value - portfolio_value} away from having an appropriate size emergency fund.\")\n",
    "\n"
   ]
  },
  {
   "cell_type": "markdown",
   "metadata": {},
   "source": [
    "## Part 2: Create a Financial Planner for Retirement"
   ]
  },
  {
   "cell_type": "markdown",
   "metadata": {},
   "source": [
    "### Create the Monte Carlo Simulation\n",
    "\n",
    "In this section, you’ll use the MCForecastTools library to create a Monte Carlo simulation for the member’s savings portfolio. To do this, complete the following steps:\n",
    "\n",
    "1. Make an API call via the Alpaca SDK to get 3 years of historical closing prices for a traditional 60/40 portfolio split: 60% stocks (SPY) and 40% bonds (AGG).\n",
    "\n",
    "2. Run a Monte Carlo simulation of 500 samples and 30 years for the 60/40 portfolio, and then plot the results.The following image shows the overlay line plot resulting from a simulation with these characteristics. However, because a random number generator is used to run each live Monte Carlo simulation, your image will differ slightly from this exact image:\n",
    "\n",
    "![A screenshot depicts the resulting plot.](Images/5-4-monte-carlo-line-plot.png)\n",
    "\n",
    "3. Plot the probability distribution of the Monte Carlo simulation. Plot the probability distribution of the Monte Carlo simulation. The following image shows the histogram plot resulting from a simulation with these characteristics. However, because a random number generator is used to run each live Monte Carlo simulation, your image will differ slightly from this exact image:\n",
    "\n",
    "![A screenshot depicts the histogram plot.](Images/5-4-monte-carlo-histogram.png)\n",
    "\n",
    "4. Generate the summary statistics for the Monte Carlo simulation.\n",
    "\n"
   ]
  },
  {
   "cell_type": "markdown",
   "metadata": {},
   "source": [
    "#### Step 1: Make an API call via the Alpaca SDK to get 3 years of historical closing prices for a traditional 60/40 portfolio split: 60% stocks (SPY) and 40% bonds (AGG)."
   ]
  },
  {
   "cell_type": "code",
   "execution_count": 28,
   "metadata": {},
   "outputs": [],
   "source": [
    "# Set start and end dates of 3 years back from your current date\n",
    "# Alternatively, you can use an end date of 2020-08-07 and work 3 years back from that date \n",
    "start_date = pd.Timestamp(\"2019-07-30\", tz=\"America/New_York\").isoformat()\n",
    "end_date = pd.Timestamp(\"2022-07-29\", tz=\"America/New_York\").isoformat()"
   ]
  },
  {
   "cell_type": "code",
   "execution_count": 29,
   "metadata": {},
   "outputs": [
    {
     "data": {
      "text/html": [
       "<div>\n",
       "<style scoped>\n",
       "    .dataframe tbody tr th:only-of-type {\n",
       "        vertical-align: middle;\n",
       "    }\n",
       "\n",
       "    .dataframe tbody tr th {\n",
       "        vertical-align: top;\n",
       "    }\n",
       "\n",
       "    .dataframe thead tr th {\n",
       "        text-align: left;\n",
       "    }\n",
       "\n",
       "    .dataframe thead tr:last-of-type th {\n",
       "        text-align: right;\n",
       "    }\n",
       "</style>\n",
       "<table border=\"1\" class=\"dataframe\">\n",
       "  <thead>\n",
       "    <tr>\n",
       "      <th></th>\n",
       "      <th colspan=\"7\" halign=\"left\">SPY</th>\n",
       "      <th colspan=\"7\" halign=\"left\">AGG</th>\n",
       "    </tr>\n",
       "    <tr>\n",
       "      <th></th>\n",
       "      <th>open</th>\n",
       "      <th>high</th>\n",
       "      <th>low</th>\n",
       "      <th>close</th>\n",
       "      <th>volume</th>\n",
       "      <th>trade_count</th>\n",
       "      <th>vwap</th>\n",
       "      <th>open</th>\n",
       "      <th>high</th>\n",
       "      <th>low</th>\n",
       "      <th>close</th>\n",
       "      <th>volume</th>\n",
       "      <th>trade_count</th>\n",
       "      <th>vwap</th>\n",
       "    </tr>\n",
       "    <tr>\n",
       "      <th>timestamp</th>\n",
       "      <th></th>\n",
       "      <th></th>\n",
       "      <th></th>\n",
       "      <th></th>\n",
       "      <th></th>\n",
       "      <th></th>\n",
       "      <th></th>\n",
       "      <th></th>\n",
       "      <th></th>\n",
       "      <th></th>\n",
       "      <th></th>\n",
       "      <th></th>\n",
       "      <th></th>\n",
       "      <th></th>\n",
       "    </tr>\n",
       "  </thead>\n",
       "  <tbody>\n",
       "    <tr>\n",
       "      <th>2022-07-25 04:00:00+00:00</th>\n",
       "      <td>395.72</td>\n",
       "      <td>396.47</td>\n",
       "      <td>393.21</td>\n",
       "      <td>395.57</td>\n",
       "      <td>53336510</td>\n",
       "      <td>437463</td>\n",
       "      <td>395.047557</td>\n",
       "      <td>102.90</td>\n",
       "      <td>103.090</td>\n",
       "      <td>102.870</td>\n",
       "      <td>102.98</td>\n",
       "      <td>3577227</td>\n",
       "      <td>15169</td>\n",
       "      <td>102.964903</td>\n",
       "    </tr>\n",
       "    <tr>\n",
       "      <th>2022-07-26 04:00:00+00:00</th>\n",
       "      <td>393.84</td>\n",
       "      <td>394.06</td>\n",
       "      <td>389.95</td>\n",
       "      <td>390.89</td>\n",
       "      <td>52767480</td>\n",
       "      <td>436591</td>\n",
       "      <td>391.857608</td>\n",
       "      <td>103.44</td>\n",
       "      <td>103.510</td>\n",
       "      <td>102.960</td>\n",
       "      <td>102.96</td>\n",
       "      <td>6203148</td>\n",
       "      <td>17921</td>\n",
       "      <td>103.179189</td>\n",
       "    </tr>\n",
       "    <tr>\n",
       "      <th>2022-07-27 04:00:00+00:00</th>\n",
       "      <td>394.43</td>\n",
       "      <td>402.88</td>\n",
       "      <td>394.05</td>\n",
       "      <td>401.04</td>\n",
       "      <td>81319074</td>\n",
       "      <td>587430</td>\n",
       "      <td>398.307462</td>\n",
       "      <td>103.19</td>\n",
       "      <td>103.640</td>\n",
       "      <td>103.180</td>\n",
       "      <td>103.32</td>\n",
       "      <td>5098243</td>\n",
       "      <td>18390</td>\n",
       "      <td>103.358408</td>\n",
       "    </tr>\n",
       "    <tr>\n",
       "      <th>2022-07-28 04:00:00+00:00</th>\n",
       "      <td>401.84</td>\n",
       "      <td>406.80</td>\n",
       "      <td>398.15</td>\n",
       "      <td>406.07</td>\n",
       "      <td>73966563</td>\n",
       "      <td>570079</td>\n",
       "      <td>403.644305</td>\n",
       "      <td>104.09</td>\n",
       "      <td>104.205</td>\n",
       "      <td>103.835</td>\n",
       "      <td>104.06</td>\n",
       "      <td>6473834</td>\n",
       "      <td>23665</td>\n",
       "      <td>104.024178</td>\n",
       "    </tr>\n",
       "    <tr>\n",
       "      <th>2022-07-29 04:00:00+00:00</th>\n",
       "      <td>407.70</td>\n",
       "      <td>413.02</td>\n",
       "      <td>406.77</td>\n",
       "      <td>411.99</td>\n",
       "      <td>86779944</td>\n",
       "      <td>544810</td>\n",
       "      <td>410.668581</td>\n",
       "      <td>103.94</td>\n",
       "      <td>104.395</td>\n",
       "      <td>103.830</td>\n",
       "      <td>104.07</td>\n",
       "      <td>6523118</td>\n",
       "      <td>22800</td>\n",
       "      <td>104.156714</td>\n",
       "    </tr>\n",
       "  </tbody>\n",
       "</table>\n",
       "</div>"
      ],
      "text/plain": [
       "                              SPY                                    \\\n",
       "                             open    high     low   close    volume   \n",
       "timestamp                                                             \n",
       "2022-07-25 04:00:00+00:00  395.72  396.47  393.21  395.57  53336510   \n",
       "2022-07-26 04:00:00+00:00  393.84  394.06  389.95  390.89  52767480   \n",
       "2022-07-27 04:00:00+00:00  394.43  402.88  394.05  401.04  81319074   \n",
       "2022-07-28 04:00:00+00:00  401.84  406.80  398.15  406.07  73966563   \n",
       "2022-07-29 04:00:00+00:00  407.70  413.02  406.77  411.99  86779944   \n",
       "\n",
       "                                                      AGG                    \\\n",
       "                          trade_count        vwap    open     high      low   \n",
       "timestamp                                                                     \n",
       "2022-07-25 04:00:00+00:00      437463  395.047557  102.90  103.090  102.870   \n",
       "2022-07-26 04:00:00+00:00      436591  391.857608  103.44  103.510  102.960   \n",
       "2022-07-27 04:00:00+00:00      587430  398.307462  103.19  103.640  103.180   \n",
       "2022-07-28 04:00:00+00:00      570079  403.644305  104.09  104.205  103.835   \n",
       "2022-07-29 04:00:00+00:00      544810  410.668581  103.94  104.395  103.830   \n",
       "\n",
       "                                                                    \n",
       "                            close   volume trade_count        vwap  \n",
       "timestamp                                                           \n",
       "2022-07-25 04:00:00+00:00  102.98  3577227       15169  102.964903  \n",
       "2022-07-26 04:00:00+00:00  102.96  6203148       17921  103.179189  \n",
       "2022-07-27 04:00:00+00:00  103.32  5098243       18390  103.358408  \n",
       "2022-07-28 04:00:00+00:00  104.06  6473834       23665  104.024178  \n",
       "2022-07-29 04:00:00+00:00  104.07  6523118       22800  104.156714  "
      ]
     },
     "execution_count": 29,
     "metadata": {},
     "output_type": "execute_result"
    }
   ],
   "source": [
    "# Use the Alpaca get_bars function to make the API call to get the 3 years worth of pricing data\n",
    "# The tickers and timeframe parameters should have been set in Part 1 of this activity \n",
    "# The start and end dates should be updated with the information set above\n",
    "# Remember to add the df property to the end of the call so the response is returned as a DataFrame\n",
    "prices_df = alpaca.get_bars(\n",
    "    tickers,\n",
    "    timeframe,\n",
    "    start=start_date,\n",
    "    end=end_date\n",
    ").df\n",
    "\n",
    "# Reorganize the DataFrame\n",
    "# Separate ticker data\n",
    "SPY = prices_df[prices_df['symbol']=='SPY'].drop('symbol', axis=1)\n",
    "AGG = prices_df[prices_df['symbol']=='AGG'].drop('symbol', axis=1)\n",
    "\n",
    "# Concatenate the ticker DataFrames\n",
    "prices_df = pd.concat([SPY, AGG], axis=1, keys=[\"SPY\", \"AGG\"])\n",
    "\n",
    "# Display both the first and last five rows of the DataFrame\n",
    "prices_df.head()\n",
    "prices_df.tail()"
   ]
  },
  {
   "cell_type": "markdown",
   "metadata": {},
   "source": [
    "#### Step 2: Run a Monte Carlo simulation of 500 samples and 30 years for the 60/40 portfolio, and then plot the results."
   ]
  },
  {
   "cell_type": "code",
   "execution_count": 30,
   "metadata": {},
   "outputs": [
    {
     "data": {
      "text/html": [
       "<div>\n",
       "<style scoped>\n",
       "    .dataframe tbody tr th:only-of-type {\n",
       "        vertical-align: middle;\n",
       "    }\n",
       "\n",
       "    .dataframe tbody tr th {\n",
       "        vertical-align: top;\n",
       "    }\n",
       "\n",
       "    .dataframe thead tr th {\n",
       "        text-align: left;\n",
       "    }\n",
       "\n",
       "    .dataframe thead tr:last-of-type th {\n",
       "        text-align: right;\n",
       "    }\n",
       "</style>\n",
       "<table border=\"1\" class=\"dataframe\">\n",
       "  <thead>\n",
       "    <tr>\n",
       "      <th></th>\n",
       "      <th colspan=\"8\" halign=\"left\">SPY</th>\n",
       "      <th colspan=\"8\" halign=\"left\">AGG</th>\n",
       "    </tr>\n",
       "    <tr>\n",
       "      <th></th>\n",
       "      <th>open</th>\n",
       "      <th>high</th>\n",
       "      <th>low</th>\n",
       "      <th>close</th>\n",
       "      <th>volume</th>\n",
       "      <th>trade_count</th>\n",
       "      <th>vwap</th>\n",
       "      <th>daily_return</th>\n",
       "      <th>open</th>\n",
       "      <th>high</th>\n",
       "      <th>low</th>\n",
       "      <th>close</th>\n",
       "      <th>volume</th>\n",
       "      <th>trade_count</th>\n",
       "      <th>vwap</th>\n",
       "      <th>daily_return</th>\n",
       "    </tr>\n",
       "    <tr>\n",
       "      <th>timestamp</th>\n",
       "      <th></th>\n",
       "      <th></th>\n",
       "      <th></th>\n",
       "      <th></th>\n",
       "      <th></th>\n",
       "      <th></th>\n",
       "      <th></th>\n",
       "      <th></th>\n",
       "      <th></th>\n",
       "      <th></th>\n",
       "      <th></th>\n",
       "      <th></th>\n",
       "      <th></th>\n",
       "      <th></th>\n",
       "      <th></th>\n",
       "      <th></th>\n",
       "    </tr>\n",
       "  </thead>\n",
       "  <tbody>\n",
       "    <tr>\n",
       "      <th>2019-07-30 04:00:00+00:00</th>\n",
       "      <td>299.90</td>\n",
       "      <td>301.17</td>\n",
       "      <td>299.49</td>\n",
       "      <td>300.72</td>\n",
       "      <td>46360267</td>\n",
       "      <td>208893</td>\n",
       "      <td>300.597002</td>\n",
       "      <td>NaN</td>\n",
       "      <td>111.27</td>\n",
       "      <td>111.33</td>\n",
       "      <td>111.16</td>\n",
       "      <td>111.25</td>\n",
       "      <td>2409278</td>\n",
       "      <td>9125</td>\n",
       "      <td>111.240710</td>\n",
       "      <td>NaN</td>\n",
       "    </tr>\n",
       "    <tr>\n",
       "      <th>2019-07-31 04:00:00+00:00</th>\n",
       "      <td>300.98</td>\n",
       "      <td>301.20</td>\n",
       "      <td>295.20</td>\n",
       "      <td>297.43</td>\n",
       "      <td>104971212</td>\n",
       "      <td>537642</td>\n",
       "      <td>298.744183</td>\n",
       "      <td>-0.010940</td>\n",
       "      <td>111.30</td>\n",
       "      <td>111.59</td>\n",
       "      <td>111.07</td>\n",
       "      <td>111.30</td>\n",
       "      <td>12972717</td>\n",
       "      <td>17896</td>\n",
       "      <td>111.389988</td>\n",
       "      <td>0.000449</td>\n",
       "    </tr>\n",
       "    <tr>\n",
       "      <th>2019-08-01 04:00:00+00:00</th>\n",
       "      <td>297.56</td>\n",
       "      <td>300.87</td>\n",
       "      <td>293.96</td>\n",
       "      <td>294.84</td>\n",
       "      <td>142653060</td>\n",
       "      <td>771413</td>\n",
       "      <td>296.650886</td>\n",
       "      <td>-0.008708</td>\n",
       "      <td>111.34</td>\n",
       "      <td>111.95</td>\n",
       "      <td>111.26</td>\n",
       "      <td>111.91</td>\n",
       "      <td>5709211</td>\n",
       "      <td>22712</td>\n",
       "      <td>111.700343</td>\n",
       "      <td>0.005481</td>\n",
       "    </tr>\n",
       "    <tr>\n",
       "      <th>2019-08-02 04:00:00+00:00</th>\n",
       "      <td>293.86</td>\n",
       "      <td>294.12</td>\n",
       "      <td>290.90</td>\n",
       "      <td>292.62</td>\n",
       "      <td>118248370</td>\n",
       "      <td>552082</td>\n",
       "      <td>292.544668</td>\n",
       "      <td>-0.007530</td>\n",
       "      <td>111.93</td>\n",
       "      <td>112.04</td>\n",
       "      <td>111.82</td>\n",
       "      <td>111.95</td>\n",
       "      <td>3293739</td>\n",
       "      <td>16662</td>\n",
       "      <td>111.917417</td>\n",
       "      <td>0.000357</td>\n",
       "    </tr>\n",
       "    <tr>\n",
       "      <th>2019-08-05 04:00:00+00:00</th>\n",
       "      <td>288.07</td>\n",
       "      <td>288.21</td>\n",
       "      <td>281.72</td>\n",
       "      <td>283.82</td>\n",
       "      <td>178747597</td>\n",
       "      <td>789975</td>\n",
       "      <td>285.254711</td>\n",
       "      <td>-0.030073</td>\n",
       "      <td>112.28</td>\n",
       "      <td>112.58</td>\n",
       "      <td>112.25</td>\n",
       "      <td>112.44</td>\n",
       "      <td>7626664</td>\n",
       "      <td>26007</td>\n",
       "      <td>112.454502</td>\n",
       "      <td>0.004377</td>\n",
       "    </tr>\n",
       "  </tbody>\n",
       "</table>\n",
       "</div>"
      ],
      "text/plain": [
       "                              SPY                                     \\\n",
       "                             open    high     low   close     volume   \n",
       "timestamp                                                              \n",
       "2019-07-30 04:00:00+00:00  299.90  301.17  299.49  300.72   46360267   \n",
       "2019-07-31 04:00:00+00:00  300.98  301.20  295.20  297.43  104971212   \n",
       "2019-08-01 04:00:00+00:00  297.56  300.87  293.96  294.84  142653060   \n",
       "2019-08-02 04:00:00+00:00  293.86  294.12  290.90  292.62  118248370   \n",
       "2019-08-05 04:00:00+00:00  288.07  288.21  281.72  283.82  178747597   \n",
       "\n",
       "                                                                   AGG  \\\n",
       "                          trade_count        vwap daily_return    open   \n",
       "timestamp                                                                \n",
       "2019-07-30 04:00:00+00:00      208893  300.597002          NaN  111.27   \n",
       "2019-07-31 04:00:00+00:00      537642  298.744183    -0.010940  111.30   \n",
       "2019-08-01 04:00:00+00:00      771413  296.650886    -0.008708  111.34   \n",
       "2019-08-02 04:00:00+00:00      552082  292.544668    -0.007530  111.93   \n",
       "2019-08-05 04:00:00+00:00      789975  285.254711    -0.030073  112.28   \n",
       "\n",
       "                                                                         \\\n",
       "                             high     low   close    volume trade_count   \n",
       "timestamp                                                                 \n",
       "2019-07-30 04:00:00+00:00  111.33  111.16  111.25   2409278        9125   \n",
       "2019-07-31 04:00:00+00:00  111.59  111.07  111.30  12972717       17896   \n",
       "2019-08-01 04:00:00+00:00  111.95  111.26  111.91   5709211       22712   \n",
       "2019-08-02 04:00:00+00:00  112.04  111.82  111.95   3293739       16662   \n",
       "2019-08-05 04:00:00+00:00  112.58  112.25  112.44   7626664       26007   \n",
       "\n",
       "                                                    \n",
       "                                 vwap daily_return  \n",
       "timestamp                                           \n",
       "2019-07-30 04:00:00+00:00  111.240710          NaN  \n",
       "2019-07-31 04:00:00+00:00  111.389988     0.000449  \n",
       "2019-08-01 04:00:00+00:00  111.700343     0.005481  \n",
       "2019-08-02 04:00:00+00:00  111.917417     0.000357  \n",
       "2019-08-05 04:00:00+00:00  112.454502     0.004377  "
      ]
     },
     "execution_count": 30,
     "metadata": {},
     "output_type": "execute_result"
    }
   ],
   "source": [
    "# Configure the Monte Carlo simulation to forecast 30 years cumulative returns\n",
    "# The weights should be split 40% to AGG and 60% to SPY.\n",
    "# Run 500 samples.\n",
    "MC_sixty_forty = MCSimulation(\n",
    "    portfolio_data = prices_df,\n",
    "    weights = [.6,.4],\n",
    "    num_simulation = 500,\n",
    "    num_trading_days = 252*30\n",
    ")\n",
    "\n",
    "# Review the simulation input data\n",
    "MC_sixty_forty.portfolio_data.head()"
   ]
  },
  {
   "cell_type": "code",
   "execution_count": 31,
   "metadata": {},
   "outputs": [
    {
     "name": "stdout",
     "output_type": "stream",
     "text": [
      "Running Monte Carlo simulation number 0.\n",
      "Running Monte Carlo simulation number 10.\n",
      "Running Monte Carlo simulation number 20.\n",
      "Running Monte Carlo simulation number 30.\n",
      "Running Monte Carlo simulation number 40.\n",
      "Running Monte Carlo simulation number 50.\n",
      "Running Monte Carlo simulation number 60.\n",
      "Running Monte Carlo simulation number 70.\n",
      "Running Monte Carlo simulation number 80.\n",
      "Running Monte Carlo simulation number 90.\n",
      "Running Monte Carlo simulation number 100.\n",
      "Running Monte Carlo simulation number 110.\n",
      "Running Monte Carlo simulation number 120.\n",
      "Running Monte Carlo simulation number 130.\n",
      "Running Monte Carlo simulation number 140.\n",
      "Running Monte Carlo simulation number 150.\n",
      "Running Monte Carlo simulation number 160.\n",
      "Running Monte Carlo simulation number 170.\n",
      "Running Monte Carlo simulation number 180.\n",
      "Running Monte Carlo simulation number 190.\n",
      "Running Monte Carlo simulation number 200.\n",
      "Running Monte Carlo simulation number 210.\n",
      "Running Monte Carlo simulation number 220.\n",
      "Running Monte Carlo simulation number 230.\n",
      "Running Monte Carlo simulation number 240.\n",
      "Running Monte Carlo simulation number 250.\n",
      "Running Monte Carlo simulation number 260.\n",
      "Running Monte Carlo simulation number 270.\n",
      "Running Monte Carlo simulation number 280.\n",
      "Running Monte Carlo simulation number 290.\n",
      "Running Monte Carlo simulation number 300.\n",
      "Running Monte Carlo simulation number 310.\n",
      "Running Monte Carlo simulation number 320.\n",
      "Running Monte Carlo simulation number 330.\n",
      "Running Monte Carlo simulation number 340.\n",
      "Running Monte Carlo simulation number 350.\n",
      "Running Monte Carlo simulation number 360.\n",
      "Running Monte Carlo simulation number 370.\n",
      "Running Monte Carlo simulation number 380.\n",
      "Running Monte Carlo simulation number 390.\n",
      "Running Monte Carlo simulation number 400.\n",
      "Running Monte Carlo simulation number 410.\n",
      "Running Monte Carlo simulation number 420.\n",
      "Running Monte Carlo simulation number 430.\n",
      "Running Monte Carlo simulation number 440.\n",
      "Running Monte Carlo simulation number 450.\n",
      "Running Monte Carlo simulation number 460.\n",
      "Running Monte Carlo simulation number 470.\n",
      "Running Monte Carlo simulation number 480.\n",
      "Running Monte Carlo simulation number 490.\n"
     ]
    },
    {
     "data": {
      "text/html": [
       "<div>\n",
       "<style scoped>\n",
       "    .dataframe tbody tr th:only-of-type {\n",
       "        vertical-align: middle;\n",
       "    }\n",
       "\n",
       "    .dataframe tbody tr th {\n",
       "        vertical-align: top;\n",
       "    }\n",
       "\n",
       "    .dataframe thead th {\n",
       "        text-align: right;\n",
       "    }\n",
       "</style>\n",
       "<table border=\"1\" class=\"dataframe\">\n",
       "  <thead>\n",
       "    <tr style=\"text-align: right;\">\n",
       "      <th></th>\n",
       "      <th>0</th>\n",
       "      <th>1</th>\n",
       "      <th>2</th>\n",
       "      <th>3</th>\n",
       "      <th>4</th>\n",
       "      <th>5</th>\n",
       "      <th>6</th>\n",
       "      <th>7</th>\n",
       "      <th>8</th>\n",
       "      <th>9</th>\n",
       "      <th>...</th>\n",
       "      <th>490</th>\n",
       "      <th>491</th>\n",
       "      <th>492</th>\n",
       "      <th>493</th>\n",
       "      <th>494</th>\n",
       "      <th>495</th>\n",
       "      <th>496</th>\n",
       "      <th>497</th>\n",
       "      <th>498</th>\n",
       "      <th>499</th>\n",
       "    </tr>\n",
       "  </thead>\n",
       "  <tbody>\n",
       "    <tr>\n",
       "      <th>0</th>\n",
       "      <td>1.000000</td>\n",
       "      <td>1.000000</td>\n",
       "      <td>1.000000</td>\n",
       "      <td>1.000000</td>\n",
       "      <td>1.000000</td>\n",
       "      <td>1.000000</td>\n",
       "      <td>1.000000</td>\n",
       "      <td>1.000000</td>\n",
       "      <td>1.000000</td>\n",
       "      <td>1.000000</td>\n",
       "      <td>...</td>\n",
       "      <td>1.000000</td>\n",
       "      <td>1.000000</td>\n",
       "      <td>1.000000</td>\n",
       "      <td>1.000000</td>\n",
       "      <td>1.000000</td>\n",
       "      <td>1.000000</td>\n",
       "      <td>1.000000</td>\n",
       "      <td>1.000000</td>\n",
       "      <td>1.000000</td>\n",
       "      <td>1.000000</td>\n",
       "    </tr>\n",
       "    <tr>\n",
       "      <th>1</th>\n",
       "      <td>0.997376</td>\n",
       "      <td>1.006360</td>\n",
       "      <td>1.002339</td>\n",
       "      <td>0.989642</td>\n",
       "      <td>1.010186</td>\n",
       "      <td>0.996961</td>\n",
       "      <td>1.020319</td>\n",
       "      <td>0.992993</td>\n",
       "      <td>1.010750</td>\n",
       "      <td>1.015175</td>\n",
       "      <td>...</td>\n",
       "      <td>0.999931</td>\n",
       "      <td>1.000286</td>\n",
       "      <td>1.005314</td>\n",
       "      <td>0.995707</td>\n",
       "      <td>1.012434</td>\n",
       "      <td>0.999574</td>\n",
       "      <td>0.984681</td>\n",
       "      <td>0.978456</td>\n",
       "      <td>0.996967</td>\n",
       "      <td>1.006817</td>\n",
       "    </tr>\n",
       "    <tr>\n",
       "      <th>2</th>\n",
       "      <td>1.007158</td>\n",
       "      <td>1.010225</td>\n",
       "      <td>1.001419</td>\n",
       "      <td>0.992458</td>\n",
       "      <td>1.015942</td>\n",
       "      <td>0.986897</td>\n",
       "      <td>1.039043</td>\n",
       "      <td>0.983442</td>\n",
       "      <td>1.014913</td>\n",
       "      <td>1.014801</td>\n",
       "      <td>...</td>\n",
       "      <td>1.000474</td>\n",
       "      <td>0.997627</td>\n",
       "      <td>1.003007</td>\n",
       "      <td>0.989480</td>\n",
       "      <td>1.022864</td>\n",
       "      <td>1.006326</td>\n",
       "      <td>0.965565</td>\n",
       "      <td>0.964676</td>\n",
       "      <td>1.000999</td>\n",
       "      <td>0.982126</td>\n",
       "    </tr>\n",
       "    <tr>\n",
       "      <th>3</th>\n",
       "      <td>1.005809</td>\n",
       "      <td>1.022256</td>\n",
       "      <td>1.009386</td>\n",
       "      <td>1.004106</td>\n",
       "      <td>1.014444</td>\n",
       "      <td>0.978701</td>\n",
       "      <td>1.019185</td>\n",
       "      <td>0.972969</td>\n",
       "      <td>1.012691</td>\n",
       "      <td>1.013458</td>\n",
       "      <td>...</td>\n",
       "      <td>0.991882</td>\n",
       "      <td>0.981135</td>\n",
       "      <td>0.998671</td>\n",
       "      <td>0.986955</td>\n",
       "      <td>1.018949</td>\n",
       "      <td>1.009830</td>\n",
       "      <td>0.957380</td>\n",
       "      <td>0.953559</td>\n",
       "      <td>0.985291</td>\n",
       "      <td>0.990142</td>\n",
       "    </tr>\n",
       "    <tr>\n",
       "      <th>4</th>\n",
       "      <td>0.992267</td>\n",
       "      <td>1.029234</td>\n",
       "      <td>1.015269</td>\n",
       "      <td>1.012330</td>\n",
       "      <td>1.003866</td>\n",
       "      <td>0.976585</td>\n",
       "      <td>1.011474</td>\n",
       "      <td>0.966255</td>\n",
       "      <td>1.008705</td>\n",
       "      <td>0.990286</td>\n",
       "      <td>...</td>\n",
       "      <td>0.987717</td>\n",
       "      <td>0.987675</td>\n",
       "      <td>1.005025</td>\n",
       "      <td>0.993750</td>\n",
       "      <td>1.011171</td>\n",
       "      <td>1.015499</td>\n",
       "      <td>0.963254</td>\n",
       "      <td>0.959999</td>\n",
       "      <td>0.964043</td>\n",
       "      <td>0.996183</td>\n",
       "    </tr>\n",
       "    <tr>\n",
       "      <th>...</th>\n",
       "      <td>...</td>\n",
       "      <td>...</td>\n",
       "      <td>...</td>\n",
       "      <td>...</td>\n",
       "      <td>...</td>\n",
       "      <td>...</td>\n",
       "      <td>...</td>\n",
       "      <td>...</td>\n",
       "      <td>...</td>\n",
       "      <td>...</td>\n",
       "      <td>...</td>\n",
       "      <td>...</td>\n",
       "      <td>...</td>\n",
       "      <td>...</td>\n",
       "      <td>...</td>\n",
       "      <td>...</td>\n",
       "      <td>...</td>\n",
       "      <td>...</td>\n",
       "      <td>...</td>\n",
       "      <td>...</td>\n",
       "      <td>...</td>\n",
       "    </tr>\n",
       "    <tr>\n",
       "      <th>7556</th>\n",
       "      <td>4.014460</td>\n",
       "      <td>13.080259</td>\n",
       "      <td>10.402758</td>\n",
       "      <td>7.012715</td>\n",
       "      <td>2.148692</td>\n",
       "      <td>12.514610</td>\n",
       "      <td>18.059943</td>\n",
       "      <td>68.152429</td>\n",
       "      <td>10.075276</td>\n",
       "      <td>9.532908</td>\n",
       "      <td>...</td>\n",
       "      <td>10.021732</td>\n",
       "      <td>2.220021</td>\n",
       "      <td>3.107354</td>\n",
       "      <td>8.768317</td>\n",
       "      <td>13.316921</td>\n",
       "      <td>1.803362</td>\n",
       "      <td>4.359047</td>\n",
       "      <td>13.735905</td>\n",
       "      <td>14.274335</td>\n",
       "      <td>19.929156</td>\n",
       "    </tr>\n",
       "    <tr>\n",
       "      <th>7557</th>\n",
       "      <td>4.025957</td>\n",
       "      <td>12.883503</td>\n",
       "      <td>10.343540</td>\n",
       "      <td>7.019276</td>\n",
       "      <td>2.147388</td>\n",
       "      <td>12.443081</td>\n",
       "      <td>18.369020</td>\n",
       "      <td>68.350591</td>\n",
       "      <td>10.141310</td>\n",
       "      <td>9.573430</td>\n",
       "      <td>...</td>\n",
       "      <td>10.075070</td>\n",
       "      <td>2.209639</td>\n",
       "      <td>3.137920</td>\n",
       "      <td>8.771643</td>\n",
       "      <td>13.166836</td>\n",
       "      <td>1.806044</td>\n",
       "      <td>4.348401</td>\n",
       "      <td>13.750361</td>\n",
       "      <td>14.297425</td>\n",
       "      <td>20.324599</td>\n",
       "    </tr>\n",
       "    <tr>\n",
       "      <th>7558</th>\n",
       "      <td>4.017876</td>\n",
       "      <td>12.670120</td>\n",
       "      <td>10.268324</td>\n",
       "      <td>6.963654</td>\n",
       "      <td>2.098459</td>\n",
       "      <td>12.670463</td>\n",
       "      <td>18.510954</td>\n",
       "      <td>67.742658</td>\n",
       "      <td>10.075578</td>\n",
       "      <td>9.665316</td>\n",
       "      <td>...</td>\n",
       "      <td>10.157195</td>\n",
       "      <td>2.199992</td>\n",
       "      <td>3.145632</td>\n",
       "      <td>8.667238</td>\n",
       "      <td>13.025245</td>\n",
       "      <td>1.798961</td>\n",
       "      <td>4.353508</td>\n",
       "      <td>13.692688</td>\n",
       "      <td>14.210836</td>\n",
       "      <td>20.513384</td>\n",
       "    </tr>\n",
       "    <tr>\n",
       "      <th>7559</th>\n",
       "      <td>4.004843</td>\n",
       "      <td>12.705505</td>\n",
       "      <td>10.352874</td>\n",
       "      <td>6.979351</td>\n",
       "      <td>2.128090</td>\n",
       "      <td>12.729120</td>\n",
       "      <td>18.340586</td>\n",
       "      <td>67.864010</td>\n",
       "      <td>10.001549</td>\n",
       "      <td>9.620990</td>\n",
       "      <td>...</td>\n",
       "      <td>10.108503</td>\n",
       "      <td>2.179215</td>\n",
       "      <td>3.169553</td>\n",
       "      <td>8.714222</td>\n",
       "      <td>13.037785</td>\n",
       "      <td>1.820537</td>\n",
       "      <td>4.328942</td>\n",
       "      <td>13.563469</td>\n",
       "      <td>14.118679</td>\n",
       "      <td>20.626804</td>\n",
       "    </tr>\n",
       "    <tr>\n",
       "      <th>7560</th>\n",
       "      <td>3.988623</td>\n",
       "      <td>12.579910</td>\n",
       "      <td>10.325566</td>\n",
       "      <td>7.018138</td>\n",
       "      <td>2.106593</td>\n",
       "      <td>12.676779</td>\n",
       "      <td>18.249812</td>\n",
       "      <td>67.655491</td>\n",
       "      <td>9.917197</td>\n",
       "      <td>9.679559</td>\n",
       "      <td>...</td>\n",
       "      <td>10.059013</td>\n",
       "      <td>2.180928</td>\n",
       "      <td>3.211286</td>\n",
       "      <td>8.625992</td>\n",
       "      <td>12.940426</td>\n",
       "      <td>1.779870</td>\n",
       "      <td>4.299646</td>\n",
       "      <td>13.502425</td>\n",
       "      <td>14.316054</td>\n",
       "      <td>20.446254</td>\n",
       "    </tr>\n",
       "  </tbody>\n",
       "</table>\n",
       "<p>7561 rows × 500 columns</p>\n",
       "</div>"
      ],
      "text/plain": [
       "           0          1          2         3         4          5    \\\n",
       "0     1.000000   1.000000   1.000000  1.000000  1.000000   1.000000   \n",
       "1     0.997376   1.006360   1.002339  0.989642  1.010186   0.996961   \n",
       "2     1.007158   1.010225   1.001419  0.992458  1.015942   0.986897   \n",
       "3     1.005809   1.022256   1.009386  1.004106  1.014444   0.978701   \n",
       "4     0.992267   1.029234   1.015269  1.012330  1.003866   0.976585   \n",
       "...        ...        ...        ...       ...       ...        ...   \n",
       "7556  4.014460  13.080259  10.402758  7.012715  2.148692  12.514610   \n",
       "7557  4.025957  12.883503  10.343540  7.019276  2.147388  12.443081   \n",
       "7558  4.017876  12.670120  10.268324  6.963654  2.098459  12.670463   \n",
       "7559  4.004843  12.705505  10.352874  6.979351  2.128090  12.729120   \n",
       "7560  3.988623  12.579910  10.325566  7.018138  2.106593  12.676779   \n",
       "\n",
       "            6          7          8         9    ...        490       491  \\\n",
       "0      1.000000   1.000000   1.000000  1.000000  ...   1.000000  1.000000   \n",
       "1      1.020319   0.992993   1.010750  1.015175  ...   0.999931  1.000286   \n",
       "2      1.039043   0.983442   1.014913  1.014801  ...   1.000474  0.997627   \n",
       "3      1.019185   0.972969   1.012691  1.013458  ...   0.991882  0.981135   \n",
       "4      1.011474   0.966255   1.008705  0.990286  ...   0.987717  0.987675   \n",
       "...         ...        ...        ...       ...  ...        ...       ...   \n",
       "7556  18.059943  68.152429  10.075276  9.532908  ...  10.021732  2.220021   \n",
       "7557  18.369020  68.350591  10.141310  9.573430  ...  10.075070  2.209639   \n",
       "7558  18.510954  67.742658  10.075578  9.665316  ...  10.157195  2.199992   \n",
       "7559  18.340586  67.864010  10.001549  9.620990  ...  10.108503  2.179215   \n",
       "7560  18.249812  67.655491   9.917197  9.679559  ...  10.059013  2.180928   \n",
       "\n",
       "           492       493        494       495       496        497        498  \\\n",
       "0     1.000000  1.000000   1.000000  1.000000  1.000000   1.000000   1.000000   \n",
       "1     1.005314  0.995707   1.012434  0.999574  0.984681   0.978456   0.996967   \n",
       "2     1.003007  0.989480   1.022864  1.006326  0.965565   0.964676   1.000999   \n",
       "3     0.998671  0.986955   1.018949  1.009830  0.957380   0.953559   0.985291   \n",
       "4     1.005025  0.993750   1.011171  1.015499  0.963254   0.959999   0.964043   \n",
       "...        ...       ...        ...       ...       ...        ...        ...   \n",
       "7556  3.107354  8.768317  13.316921  1.803362  4.359047  13.735905  14.274335   \n",
       "7557  3.137920  8.771643  13.166836  1.806044  4.348401  13.750361  14.297425   \n",
       "7558  3.145632  8.667238  13.025245  1.798961  4.353508  13.692688  14.210836   \n",
       "7559  3.169553  8.714222  13.037785  1.820537  4.328942  13.563469  14.118679   \n",
       "7560  3.211286  8.625992  12.940426  1.779870  4.299646  13.502425  14.316054   \n",
       "\n",
       "            499  \n",
       "0      1.000000  \n",
       "1      1.006817  \n",
       "2      0.982126  \n",
       "3      0.990142  \n",
       "4      0.996183  \n",
       "...         ...  \n",
       "7556  19.929156  \n",
       "7557  20.324599  \n",
       "7558  20.513384  \n",
       "7559  20.626804  \n",
       "7560  20.446254  \n",
       "\n",
       "[7561 rows x 500 columns]"
      ]
     },
     "execution_count": 31,
     "metadata": {},
     "output_type": "execute_result"
    }
   ],
   "source": [
    "# Run the Monte Carlo simulation to forecast 30 years cumulative returns\n",
    "MC_sixty_forty.calc_cumulative_return()"
   ]
  },
  {
   "cell_type": "code",
   "execution_count": 32,
   "metadata": {},
   "outputs": [
    {
     "data": {
      "image/png": "[encoded data removed]",
      "text/plain": [
       "<Figure size 432x288 with 1 Axes>"
      ]
     },
     "metadata": {
      "needs_background": "light"
     },
     "output_type": "display_data"
    }
   ],
   "source": [
    "# Visualize the 30-year Monte Carlo simulation by creating an\n",
    "# overlay line plot\n",
    "sixty_forty_line_plot = MC_sixty_forty.plot_simulation()\n"
   ]
  },
  {
   "cell_type": "markdown",
   "metadata": {},
   "source": [
    "#### Step 3: Plot the probability distribution of the Monte Carlo simulation."
   ]
  },
  {
   "cell_type": "code",
   "execution_count": 33,
   "metadata": {},
   "outputs": [
    {
     "data": {
      "image/png": "[encoded data removed]",
      "text/plain": [
       "<Figure size 432x288 with 1 Axes>"
      ]
     },
     "metadata": {
      "needs_background": "light"
     },
     "output_type": "display_data"
    }
   ],
   "source": [
    "# Visualize the probability distribution of the 30-year Monte Carlo simulation \n",
    "# by plotting a histogram\n",
    "sixty_forty_distribution_plot = MC_sixty_forty.plot_distribution()\n"
   ]
  },
  {
   "cell_type": "markdown",
   "metadata": {},
   "source": [
    "#### Step 4: Generate the summary statistics for the Monte Carlo simulation."
   ]
  },
  {
   "cell_type": "code",
   "execution_count": 34,
   "metadata": {},
   "outputs": [
    {
     "name": "stdout",
     "output_type": "stream",
     "text": [
      "count           500.000000\n",
      "mean              9.286783\n",
      "std               9.189986\n",
      "min               0.841267\n",
      "25%               3.973527\n",
      "50%               7.055845\n",
      "75%              11.119665\n",
      "max              93.595493\n",
      "95% CI Lower      1.417754\n",
      "95% CI Upper     33.191355\n",
      "Name: 7560, dtype: float64\n"
     ]
    },
    {
     "name": "stderr",
     "output_type": "stream",
     "text": [
      "C:\\Users\\CarlMikel\\Desktop\\Fintech-Workspace\\Weekly_Challenges\\Challenge5\\Starter_Code5\\Starter_Code\\MCForecastTools.py:172: FutureWarning: The series.append method is deprecated and will be removed from pandas in a future version. Use pandas.concat instead.\n",
      "  return metrics.append(ci_series)\n"
     ]
    }
   ],
   "source": [
    "# Generate summary statistics from the 30-year Monte Carlo simulation results\n",
    "# Save the results as a variable\n",
    "sixty_forty_table = MC_sixty_forty.summarize_cumulative_return()\n",
    "\n",
    "\n",
    "# Review the 30-year Monte Carlo summary statistics\n",
    "print(sixty_forty_table)"
   ]
  },
  {
   "cell_type": "markdown",
   "metadata": {},
   "source": [
    "### Analyze the Retirement Portfolio Forecasts\n",
    "\n",
    "Using the current value of only the stock and bond portion of the member's portfolio and the summary statistics that you generated from the Monte Carlo simulation, answer the following question in your Jupyter notebook:\n",
    "\n",
    "-  What are the lower and upper bounds for the expected value of the portfolio with a 95% confidence interval?\n"
   ]
  },
  {
   "cell_type": "code",
   "execution_count": 48,
   "metadata": {},
   "outputs": [
    {
     "name": "stdout",
     "output_type": "stream",
     "text": [
      "66132.9\n"
     ]
    }
   ],
   "source": [
    "# Print the current balance of the stock and bond portion of the members portfolio\n",
    "print(total_stocks_bonds)"
   ]
  },
  {
   "cell_type": "code",
   "execution_count": 50,
   "metadata": {},
   "outputs": [
    {
     "name": "stdout",
     "output_type": "stream",
     "text": [
      "There is a 95% chance that the portfolio with a 60% weight in SPY and 40% in AGG over the next 3 years will end within in the range of $93760.19 and $2195040.54.\n"
     ]
    }
   ],
   "source": [
    "# Use the lower and upper `95%` confidence intervals to calculate the range of the possible outcomes for the current stock/bond portfolio\n",
    "ci_lower_thirty_cumulative_return = round(sixty_forty_table[8]*total_stocks_bonds,2)\n",
    "ci_upper_thirty_cumulative_return = round(sixty_forty_table[9]*total_stocks_bonds,2)\n",
    "\n",
    "# Print the result of your calculations\n",
    "print(f\"There is a 95% chance that the portfolio\"\n",
    "      f\" with a 60% weight in SPY and 40% in AGG over the next 3 years will end within in the range of\"\n",
    "      f\" ${ci_lower_thirty_cumulative_return} and ${ci_upper_thirty_cumulative_return}.\")"
   ]
  },
  {
   "cell_type": "markdown",
   "metadata": {},
   "source": [
    "### Forecast Cumulative Returns in 10 Years\n",
    "\n",
    "The CTO of the credit union is impressed with your work on these planning tools but wonders if 30 years is a long time to wait until retirement. So, your next task is to adjust the retirement portfolio and run a new Monte Carlo simulation to find out if the changes will allow members to retire earlier.\n",
    "\n",
    "For this new Monte Carlo simulation, do the following: \n",
    "\n",
    "- Forecast the cumulative returns for 10 years from now. Because of the shortened investment horizon (30 years to 10 years), the portfolio needs to invest more heavily in the riskier asset&mdash;that is, stock&mdash;to help accumulate wealth for retirement. \n",
    "\n",
    "- Adjust the weights of the retirement portfolio so that the composition for the Monte Carlo simulation consists of 20% bonds and 80% stocks. \n",
    "\n",
    "- Run the simulation over 500 samples, and use the same data that the API call to Alpaca generated.\n",
    "\n",
    "- Based on the new Monte Carlo simulation, answer the following questions in your Jupyter notebook:\n",
    "\n",
    "    - Using the current value of only the stock and bond portion of the member's portfolio and the summary statistics that you generated from the new Monte Carlo simulation, what are the lower and upper bounds for the expected value of the portfolio (with the new weights) with a 95% confidence interval?\n",
    "\n",
    "    - Will weighting the portfolio more heavily toward stocks allow the credit union members to retire after only 10 years?\n"
   ]
  },
  {
   "cell_type": "code",
   "execution_count": 51,
   "metadata": {},
   "outputs": [
    {
     "data": {
      "text/html": [
       "<div>\n",
       "<style scoped>\n",
       "    .dataframe tbody tr th:only-of-type {\n",
       "        vertical-align: middle;\n",
       "    }\n",
       "\n",
       "    .dataframe tbody tr th {\n",
       "        vertical-align: top;\n",
       "    }\n",
       "\n",
       "    .dataframe thead tr th {\n",
       "        text-align: left;\n",
       "    }\n",
       "\n",
       "    .dataframe thead tr:last-of-type th {\n",
       "        text-align: right;\n",
       "    }\n",
       "</style>\n",
       "<table border=\"1\" class=\"dataframe\">\n",
       "  <thead>\n",
       "    <tr>\n",
       "      <th></th>\n",
       "      <th colspan=\"8\" halign=\"left\">SPY</th>\n",
       "      <th colspan=\"8\" halign=\"left\">AGG</th>\n",
       "    </tr>\n",
       "    <tr>\n",
       "      <th></th>\n",
       "      <th>open</th>\n",
       "      <th>high</th>\n",
       "      <th>low</th>\n",
       "      <th>close</th>\n",
       "      <th>volume</th>\n",
       "      <th>trade_count</th>\n",
       "      <th>vwap</th>\n",
       "      <th>daily_return</th>\n",
       "      <th>open</th>\n",
       "      <th>high</th>\n",
       "      <th>low</th>\n",
       "      <th>close</th>\n",
       "      <th>volume</th>\n",
       "      <th>trade_count</th>\n",
       "      <th>vwap</th>\n",
       "      <th>daily_return</th>\n",
       "    </tr>\n",
       "    <tr>\n",
       "      <th>timestamp</th>\n",
       "      <th></th>\n",
       "      <th></th>\n",
       "      <th></th>\n",
       "      <th></th>\n",
       "      <th></th>\n",
       "      <th></th>\n",
       "      <th></th>\n",
       "      <th></th>\n",
       "      <th></th>\n",
       "      <th></th>\n",
       "      <th></th>\n",
       "      <th></th>\n",
       "      <th></th>\n",
       "      <th></th>\n",
       "      <th></th>\n",
       "      <th></th>\n",
       "    </tr>\n",
       "  </thead>\n",
       "  <tbody>\n",
       "    <tr>\n",
       "      <th>2019-07-30 04:00:00+00:00</th>\n",
       "      <td>299.90</td>\n",
       "      <td>301.17</td>\n",
       "      <td>299.49</td>\n",
       "      <td>300.72</td>\n",
       "      <td>46360267</td>\n",
       "      <td>208893</td>\n",
       "      <td>300.597002</td>\n",
       "      <td>NaN</td>\n",
       "      <td>111.27</td>\n",
       "      <td>111.33</td>\n",
       "      <td>111.16</td>\n",
       "      <td>111.25</td>\n",
       "      <td>2409278</td>\n",
       "      <td>9125</td>\n",
       "      <td>111.240710</td>\n",
       "      <td>NaN</td>\n",
       "    </tr>\n",
       "    <tr>\n",
       "      <th>2019-07-31 04:00:00+00:00</th>\n",
       "      <td>300.98</td>\n",
       "      <td>301.20</td>\n",
       "      <td>295.20</td>\n",
       "      <td>297.43</td>\n",
       "      <td>104971212</td>\n",
       "      <td>537642</td>\n",
       "      <td>298.744183</td>\n",
       "      <td>-0.010940</td>\n",
       "      <td>111.30</td>\n",
       "      <td>111.59</td>\n",
       "      <td>111.07</td>\n",
       "      <td>111.30</td>\n",
       "      <td>12972717</td>\n",
       "      <td>17896</td>\n",
       "      <td>111.389988</td>\n",
       "      <td>0.000449</td>\n",
       "    </tr>\n",
       "    <tr>\n",
       "      <th>2019-08-01 04:00:00+00:00</th>\n",
       "      <td>297.56</td>\n",
       "      <td>300.87</td>\n",
       "      <td>293.96</td>\n",
       "      <td>294.84</td>\n",
       "      <td>142653060</td>\n",
       "      <td>771413</td>\n",
       "      <td>296.650886</td>\n",
       "      <td>-0.008708</td>\n",
       "      <td>111.34</td>\n",
       "      <td>111.95</td>\n",
       "      <td>111.26</td>\n",
       "      <td>111.91</td>\n",
       "      <td>5709211</td>\n",
       "      <td>22712</td>\n",
       "      <td>111.700343</td>\n",
       "      <td>0.005481</td>\n",
       "    </tr>\n",
       "    <tr>\n",
       "      <th>2019-08-02 04:00:00+00:00</th>\n",
       "      <td>293.86</td>\n",
       "      <td>294.12</td>\n",
       "      <td>290.90</td>\n",
       "      <td>292.62</td>\n",
       "      <td>118248370</td>\n",
       "      <td>552082</td>\n",
       "      <td>292.544668</td>\n",
       "      <td>-0.007530</td>\n",
       "      <td>111.93</td>\n",
       "      <td>112.04</td>\n",
       "      <td>111.82</td>\n",
       "      <td>111.95</td>\n",
       "      <td>3293739</td>\n",
       "      <td>16662</td>\n",
       "      <td>111.917417</td>\n",
       "      <td>0.000357</td>\n",
       "    </tr>\n",
       "    <tr>\n",
       "      <th>2019-08-05 04:00:00+00:00</th>\n",
       "      <td>288.07</td>\n",
       "      <td>288.21</td>\n",
       "      <td>281.72</td>\n",
       "      <td>283.82</td>\n",
       "      <td>178747597</td>\n",
       "      <td>789975</td>\n",
       "      <td>285.254711</td>\n",
       "      <td>-0.030073</td>\n",
       "      <td>112.28</td>\n",
       "      <td>112.58</td>\n",
       "      <td>112.25</td>\n",
       "      <td>112.44</td>\n",
       "      <td>7626664</td>\n",
       "      <td>26007</td>\n",
       "      <td>112.454502</td>\n",
       "      <td>0.004377</td>\n",
       "    </tr>\n",
       "  </tbody>\n",
       "</table>\n",
       "</div>"
      ],
      "text/plain": [
       "                              SPY                                     \\\n",
       "                             open    high     low   close     volume   \n",
       "timestamp                                                              \n",
       "2019-07-30 04:00:00+00:00  299.90  301.17  299.49  300.72   46360267   \n",
       "2019-07-31 04:00:00+00:00  300.98  301.20  295.20  297.43  104971212   \n",
       "2019-08-01 04:00:00+00:00  297.56  300.87  293.96  294.84  142653060   \n",
       "2019-08-02 04:00:00+00:00  293.86  294.12  290.90  292.62  118248370   \n",
       "2019-08-05 04:00:00+00:00  288.07  288.21  281.72  283.82  178747597   \n",
       "\n",
       "                                                                   AGG  \\\n",
       "                          trade_count        vwap daily_return    open   \n",
       "timestamp                                                                \n",
       "2019-07-30 04:00:00+00:00      208893  300.597002          NaN  111.27   \n",
       "2019-07-31 04:00:00+00:00      537642  298.744183    -0.010940  111.30   \n",
       "2019-08-01 04:00:00+00:00      771413  296.650886    -0.008708  111.34   \n",
       "2019-08-02 04:00:00+00:00      552082  292.544668    -0.007530  111.93   \n",
       "2019-08-05 04:00:00+00:00      789975  285.254711    -0.030073  112.28   \n",
       "\n",
       "                                                                         \\\n",
       "                             high     low   close    volume trade_count   \n",
       "timestamp                                                                 \n",
       "2019-07-30 04:00:00+00:00  111.33  111.16  111.25   2409278        9125   \n",
       "2019-07-31 04:00:00+00:00  111.59  111.07  111.30  12972717       17896   \n",
       "2019-08-01 04:00:00+00:00  111.95  111.26  111.91   5709211       22712   \n",
       "2019-08-02 04:00:00+00:00  112.04  111.82  111.95   3293739       16662   \n",
       "2019-08-05 04:00:00+00:00  112.58  112.25  112.44   7626664       26007   \n",
       "\n",
       "                                                    \n",
       "                                 vwap daily_return  \n",
       "timestamp                                           \n",
       "2019-07-30 04:00:00+00:00  111.240710          NaN  \n",
       "2019-07-31 04:00:00+00:00  111.389988     0.000449  \n",
       "2019-08-01 04:00:00+00:00  111.700343     0.005481  \n",
       "2019-08-02 04:00:00+00:00  111.917417     0.000357  \n",
       "2019-08-05 04:00:00+00:00  112.454502     0.004377  "
      ]
     },
     "execution_count": 51,
     "metadata": {},
     "output_type": "execute_result"
    }
   ],
   "source": [
    "# Configure a Monte Carlo simulation to forecast 10 years cumulative returns\n",
    "# The weights should be split 20% to AGG and 80% to SPY.\n",
    "# Run 500 samples.\n",
    "MC_eighty_twenty = MCSimulation(\n",
    "    portfolio_data = prices_df,\n",
    "    weights = [.8,.2],\n",
    "    num_simulation = 500,\n",
    "    num_trading_days = 252*10\n",
    ")\n",
    "\n",
    "# Review the simulation input data\n",
    "MC_eighty_twenty.portfolio_data.head()\n"
   ]
  },
  {
   "cell_type": "code",
   "execution_count": 52,
   "metadata": {},
   "outputs": [
    {
     "name": "stdout",
     "output_type": "stream",
     "text": [
      "Running Monte Carlo simulation number 0.\n",
      "Running Monte Carlo simulation number 10.\n",
      "Running Monte Carlo simulation number 20.\n",
      "Running Monte Carlo simulation number 30.\n",
      "Running Monte Carlo simulation number 40.\n",
      "Running Monte Carlo simulation number 50.\n",
      "Running Monte Carlo simulation number 60.\n",
      "Running Monte Carlo simulation number 70.\n",
      "Running Monte Carlo simulation number 80.\n",
      "Running Monte Carlo simulation number 90.\n",
      "Running Monte Carlo simulation number 100.\n",
      "Running Monte Carlo simulation number 110.\n",
      "Running Monte Carlo simulation number 120.\n",
      "Running Monte Carlo simulation number 130.\n",
      "Running Monte Carlo simulation number 140.\n",
      "Running Monte Carlo simulation number 150.\n",
      "Running Monte Carlo simulation number 160.\n",
      "Running Monte Carlo simulation number 170.\n",
      "Running Monte Carlo simulation number 180.\n",
      "Running Monte Carlo simulation number 190.\n",
      "Running Monte Carlo simulation number 200.\n",
      "Running Monte Carlo simulation number 210.\n",
      "Running Monte Carlo simulation number 220.\n",
      "Running Monte Carlo simulation number 230.\n",
      "Running Monte Carlo simulation number 240.\n",
      "Running Monte Carlo simulation number 250.\n",
      "Running Monte Carlo simulation number 260.\n",
      "Running Monte Carlo simulation number 270.\n",
      "Running Monte Carlo simulation number 280.\n",
      "Running Monte Carlo simulation number 290.\n",
      "Running Monte Carlo simulation number 300.\n",
      "Running Monte Carlo simulation number 310.\n",
      "Running Monte Carlo simulation number 320.\n",
      "Running Monte Carlo simulation number 330.\n",
      "Running Monte Carlo simulation number 340.\n",
      "Running Monte Carlo simulation number 350.\n",
      "Running Monte Carlo simulation number 360.\n",
      "Running Monte Carlo simulation number 370.\n",
      "Running Monte Carlo simulation number 380.\n",
      "Running Monte Carlo simulation number 390.\n",
      "Running Monte Carlo simulation number 400.\n",
      "Running Monte Carlo simulation number 410.\n",
      "Running Monte Carlo simulation number 420.\n",
      "Running Monte Carlo simulation number 430.\n",
      "Running Monte Carlo simulation number 440.\n",
      "Running Monte Carlo simulation number 450.\n",
      "Running Monte Carlo simulation number 460.\n",
      "Running Monte Carlo simulation number 470.\n",
      "Running Monte Carlo simulation number 480.\n",
      "Running Monte Carlo simulation number 490.\n"
     ]
    },
    {
     "data": {
      "text/html": [
       "<div>\n",
       "<style scoped>\n",
       "    .dataframe tbody tr th:only-of-type {\n",
       "        vertical-align: middle;\n",
       "    }\n",
       "\n",
       "    .dataframe tbody tr th {\n",
       "        vertical-align: top;\n",
       "    }\n",
       "\n",
       "    .dataframe thead th {\n",
       "        text-align: right;\n",
       "    }\n",
       "</style>\n",
       "<table border=\"1\" class=\"dataframe\">\n",
       "  <thead>\n",
       "    <tr style=\"text-align: right;\">\n",
       "      <th></th>\n",
       "      <th>0</th>\n",
       "      <th>1</th>\n",
       "      <th>2</th>\n",
       "      <th>3</th>\n",
       "      <th>4</th>\n",
       "      <th>5</th>\n",
       "      <th>6</th>\n",
       "      <th>7</th>\n",
       "      <th>8</th>\n",
       "      <th>9</th>\n",
       "      <th>...</th>\n",
       "      <th>490</th>\n",
       "      <th>491</th>\n",
       "      <th>492</th>\n",
       "      <th>493</th>\n",
       "      <th>494</th>\n",
       "      <th>495</th>\n",
       "      <th>496</th>\n",
       "      <th>497</th>\n",
       "      <th>498</th>\n",
       "      <th>499</th>\n",
       "    </tr>\n",
       "  </thead>\n",
       "  <tbody>\n",
       "    <tr>\n",
       "      <th>0</th>\n",
       "      <td>1.000000</td>\n",
       "      <td>1.000000</td>\n",
       "      <td>1.000000</td>\n",
       "      <td>1.000000</td>\n",
       "      <td>1.000000</td>\n",
       "      <td>1.000000</td>\n",
       "      <td>1.000000</td>\n",
       "      <td>1.000000</td>\n",
       "      <td>1.000000</td>\n",
       "      <td>1.000000</td>\n",
       "      <td>...</td>\n",
       "      <td>1.000000</td>\n",
       "      <td>1.000000</td>\n",
       "      <td>1.000000</td>\n",
       "      <td>1.000000</td>\n",
       "      <td>1.000000</td>\n",
       "      <td>1.000000</td>\n",
       "      <td>1.000000</td>\n",
       "      <td>1.000000</td>\n",
       "      <td>1.000000</td>\n",
       "      <td>1.000000</td>\n",
       "    </tr>\n",
       "    <tr>\n",
       "      <th>1</th>\n",
       "      <td>0.999736</td>\n",
       "      <td>1.008844</td>\n",
       "      <td>0.995733</td>\n",
       "      <td>1.009180</td>\n",
       "      <td>1.001202</td>\n",
       "      <td>1.010581</td>\n",
       "      <td>0.986970</td>\n",
       "      <td>0.981944</td>\n",
       "      <td>1.016599</td>\n",
       "      <td>1.004834</td>\n",
       "      <td>...</td>\n",
       "      <td>0.973979</td>\n",
       "      <td>1.016305</td>\n",
       "      <td>0.963767</td>\n",
       "      <td>1.025966</td>\n",
       "      <td>0.998638</td>\n",
       "      <td>0.976001</td>\n",
       "      <td>0.975229</td>\n",
       "      <td>0.987408</td>\n",
       "      <td>0.994627</td>\n",
       "      <td>0.998467</td>\n",
       "    </tr>\n",
       "    <tr>\n",
       "      <th>2</th>\n",
       "      <td>1.000140</td>\n",
       "      <td>1.003769</td>\n",
       "      <td>1.001948</td>\n",
       "      <td>1.007087</td>\n",
       "      <td>1.012581</td>\n",
       "      <td>1.014741</td>\n",
       "      <td>0.991000</td>\n",
       "      <td>0.962934</td>\n",
       "      <td>1.014478</td>\n",
       "      <td>1.013287</td>\n",
       "      <td>...</td>\n",
       "      <td>0.970970</td>\n",
       "      <td>1.011019</td>\n",
       "      <td>0.983550</td>\n",
       "      <td>1.051115</td>\n",
       "      <td>0.976593</td>\n",
       "      <td>0.963898</td>\n",
       "      <td>0.971773</td>\n",
       "      <td>1.002855</td>\n",
       "      <td>0.981167</td>\n",
       "      <td>1.001210</td>\n",
       "    </tr>\n",
       "    <tr>\n",
       "      <th>3</th>\n",
       "      <td>1.001954</td>\n",
       "      <td>1.019206</td>\n",
       "      <td>1.003100</td>\n",
       "      <td>1.022170</td>\n",
       "      <td>1.014983</td>\n",
       "      <td>1.012853</td>\n",
       "      <td>0.994813</td>\n",
       "      <td>0.968037</td>\n",
       "      <td>1.017819</td>\n",
       "      <td>1.014568</td>\n",
       "      <td>...</td>\n",
       "      <td>0.966685</td>\n",
       "      <td>1.008540</td>\n",
       "      <td>0.969688</td>\n",
       "      <td>1.038668</td>\n",
       "      <td>0.972624</td>\n",
       "      <td>0.970317</td>\n",
       "      <td>0.965163</td>\n",
       "      <td>0.980391</td>\n",
       "      <td>0.993202</td>\n",
       "      <td>1.000846</td>\n",
       "    </tr>\n",
       "    <tr>\n",
       "      <th>4</th>\n",
       "      <td>0.985657</td>\n",
       "      <td>1.023998</td>\n",
       "      <td>1.010611</td>\n",
       "      <td>1.010672</td>\n",
       "      <td>1.023154</td>\n",
       "      <td>1.002437</td>\n",
       "      <td>0.991779</td>\n",
       "      <td>0.967637</td>\n",
       "      <td>0.998391</td>\n",
       "      <td>1.007150</td>\n",
       "      <td>...</td>\n",
       "      <td>0.952354</td>\n",
       "      <td>1.008965</td>\n",
       "      <td>0.977246</td>\n",
       "      <td>1.044669</td>\n",
       "      <td>0.976885</td>\n",
       "      <td>0.980333</td>\n",
       "      <td>0.967434</td>\n",
       "      <td>0.986468</td>\n",
       "      <td>1.004353</td>\n",
       "      <td>1.006253</td>\n",
       "    </tr>\n",
       "    <tr>\n",
       "      <th>...</th>\n",
       "      <td>...</td>\n",
       "      <td>...</td>\n",
       "      <td>...</td>\n",
       "      <td>...</td>\n",
       "      <td>...</td>\n",
       "      <td>...</td>\n",
       "      <td>...</td>\n",
       "      <td>...</td>\n",
       "      <td>...</td>\n",
       "      <td>...</td>\n",
       "      <td>...</td>\n",
       "      <td>...</td>\n",
       "      <td>...</td>\n",
       "      <td>...</td>\n",
       "      <td>...</td>\n",
       "      <td>...</td>\n",
       "      <td>...</td>\n",
       "      <td>...</td>\n",
       "      <td>...</td>\n",
       "      <td>...</td>\n",
       "      <td>...</td>\n",
       "    </tr>\n",
       "    <tr>\n",
       "      <th>2516</th>\n",
       "      <td>1.057646</td>\n",
       "      <td>5.272343</td>\n",
       "      <td>4.798176</td>\n",
       "      <td>5.270346</td>\n",
       "      <td>0.735744</td>\n",
       "      <td>3.182176</td>\n",
       "      <td>0.892010</td>\n",
       "      <td>1.358357</td>\n",
       "      <td>2.637904</td>\n",
       "      <td>2.133533</td>\n",
       "      <td>...</td>\n",
       "      <td>2.397145</td>\n",
       "      <td>3.701185</td>\n",
       "      <td>5.858054</td>\n",
       "      <td>4.693577</td>\n",
       "      <td>5.192712</td>\n",
       "      <td>1.176670</td>\n",
       "      <td>2.845643</td>\n",
       "      <td>1.060806</td>\n",
       "      <td>1.380047</td>\n",
       "      <td>0.913301</td>\n",
       "    </tr>\n",
       "    <tr>\n",
       "      <th>2517</th>\n",
       "      <td>1.061709</td>\n",
       "      <td>5.201595</td>\n",
       "      <td>4.859962</td>\n",
       "      <td>5.342536</td>\n",
       "      <td>0.730222</td>\n",
       "      <td>3.218741</td>\n",
       "      <td>0.909276</td>\n",
       "      <td>1.359948</td>\n",
       "      <td>2.637984</td>\n",
       "      <td>2.133131</td>\n",
       "      <td>...</td>\n",
       "      <td>2.355944</td>\n",
       "      <td>3.718093</td>\n",
       "      <td>5.947209</td>\n",
       "      <td>4.770025</td>\n",
       "      <td>5.157543</td>\n",
       "      <td>1.179649</td>\n",
       "      <td>2.876854</td>\n",
       "      <td>1.052561</td>\n",
       "      <td>1.363411</td>\n",
       "      <td>0.937384</td>\n",
       "    </tr>\n",
       "    <tr>\n",
       "      <th>2518</th>\n",
       "      <td>1.063570</td>\n",
       "      <td>5.225066</td>\n",
       "      <td>4.841919</td>\n",
       "      <td>5.381968</td>\n",
       "      <td>0.743585</td>\n",
       "      <td>3.223290</td>\n",
       "      <td>0.909713</td>\n",
       "      <td>1.377652</td>\n",
       "      <td>2.615805</td>\n",
       "      <td>2.112950</td>\n",
       "      <td>...</td>\n",
       "      <td>2.344759</td>\n",
       "      <td>3.754126</td>\n",
       "      <td>6.038535</td>\n",
       "      <td>4.736152</td>\n",
       "      <td>5.124203</td>\n",
       "      <td>1.178111</td>\n",
       "      <td>2.942034</td>\n",
       "      <td>1.059194</td>\n",
       "      <td>1.321207</td>\n",
       "      <td>0.917398</td>\n",
       "    </tr>\n",
       "    <tr>\n",
       "      <th>2519</th>\n",
       "      <td>1.060981</td>\n",
       "      <td>5.270428</td>\n",
       "      <td>4.903765</td>\n",
       "      <td>5.459647</td>\n",
       "      <td>0.738156</td>\n",
       "      <td>3.219795</td>\n",
       "      <td>0.888170</td>\n",
       "      <td>1.391093</td>\n",
       "      <td>2.561542</td>\n",
       "      <td>2.123929</td>\n",
       "      <td>...</td>\n",
       "      <td>2.306016</td>\n",
       "      <td>3.729660</td>\n",
       "      <td>6.049016</td>\n",
       "      <td>4.753363</td>\n",
       "      <td>5.103825</td>\n",
       "      <td>1.173832</td>\n",
       "      <td>3.006792</td>\n",
       "      <td>1.075564</td>\n",
       "      <td>1.317973</td>\n",
       "      <td>0.908782</td>\n",
       "    </tr>\n",
       "    <tr>\n",
       "      <th>2520</th>\n",
       "      <td>1.047060</td>\n",
       "      <td>5.246110</td>\n",
       "      <td>4.896942</td>\n",
       "      <td>5.484629</td>\n",
       "      <td>0.743011</td>\n",
       "      <td>3.145313</td>\n",
       "      <td>0.895859</td>\n",
       "      <td>1.370947</td>\n",
       "      <td>2.596237</td>\n",
       "      <td>2.162426</td>\n",
       "      <td>...</td>\n",
       "      <td>2.328170</td>\n",
       "      <td>3.742400</td>\n",
       "      <td>5.915557</td>\n",
       "      <td>4.668710</td>\n",
       "      <td>5.136131</td>\n",
       "      <td>1.173695</td>\n",
       "      <td>3.031942</td>\n",
       "      <td>1.094374</td>\n",
       "      <td>1.324364</td>\n",
       "      <td>0.918690</td>\n",
       "    </tr>\n",
       "  </tbody>\n",
       "</table>\n",
       "<p>2521 rows × 500 columns</p>\n",
       "</div>"
      ],
      "text/plain": [
       "           0         1         2         3         4         5         6    \\\n",
       "0     1.000000  1.000000  1.000000  1.000000  1.000000  1.000000  1.000000   \n",
       "1     0.999736  1.008844  0.995733  1.009180  1.001202  1.010581  0.986970   \n",
       "2     1.000140  1.003769  1.001948  1.007087  1.012581  1.014741  0.991000   \n",
       "3     1.001954  1.019206  1.003100  1.022170  1.014983  1.012853  0.994813   \n",
       "4     0.985657  1.023998  1.010611  1.010672  1.023154  1.002437  0.991779   \n",
       "...        ...       ...       ...       ...       ...       ...       ...   \n",
       "2516  1.057646  5.272343  4.798176  5.270346  0.735744  3.182176  0.892010   \n",
       "2517  1.061709  5.201595  4.859962  5.342536  0.730222  3.218741  0.909276   \n",
       "2518  1.063570  5.225066  4.841919  5.381968  0.743585  3.223290  0.909713   \n",
       "2519  1.060981  5.270428  4.903765  5.459647  0.738156  3.219795  0.888170   \n",
       "2520  1.047060  5.246110  4.896942  5.484629  0.743011  3.145313  0.895859   \n",
       "\n",
       "           7         8         9    ...       490       491       492  \\\n",
       "0     1.000000  1.000000  1.000000  ...  1.000000  1.000000  1.000000   \n",
       "1     0.981944  1.016599  1.004834  ...  0.973979  1.016305  0.963767   \n",
       "2     0.962934  1.014478  1.013287  ...  0.970970  1.011019  0.983550   \n",
       "3     0.968037  1.017819  1.014568  ...  0.966685  1.008540  0.969688   \n",
       "4     0.967637  0.998391  1.007150  ...  0.952354  1.008965  0.977246   \n",
       "...        ...       ...       ...  ...       ...       ...       ...   \n",
       "2516  1.358357  2.637904  2.133533  ...  2.397145  3.701185  5.858054   \n",
       "2517  1.359948  2.637984  2.133131  ...  2.355944  3.718093  5.947209   \n",
       "2518  1.377652  2.615805  2.112950  ...  2.344759  3.754126  6.038535   \n",
       "2519  1.391093  2.561542  2.123929  ...  2.306016  3.729660  6.049016   \n",
       "2520  1.370947  2.596237  2.162426  ...  2.328170  3.742400  5.915557   \n",
       "\n",
       "           493       494       495       496       497       498       499  \n",
       "0     1.000000  1.000000  1.000000  1.000000  1.000000  1.000000  1.000000  \n",
       "1     1.025966  0.998638  0.976001  0.975229  0.987408  0.994627  0.998467  \n",
       "2     1.051115  0.976593  0.963898  0.971773  1.002855  0.981167  1.001210  \n",
       "3     1.038668  0.972624  0.970317  0.965163  0.980391  0.993202  1.000846  \n",
       "4     1.044669  0.976885  0.980333  0.967434  0.986468  1.004353  1.006253  \n",
       "...        ...       ...       ...       ...       ...       ...       ...  \n",
       "2516  4.693577  5.192712  1.176670  2.845643  1.060806  1.380047  0.913301  \n",
       "2517  4.770025  5.157543  1.179649  2.876854  1.052561  1.363411  0.937384  \n",
       "2518  4.736152  5.124203  1.178111  2.942034  1.059194  1.321207  0.917398  \n",
       "2519  4.753363  5.103825  1.173832  3.006792  1.075564  1.317973  0.908782  \n",
       "2520  4.668710  5.136131  1.173695  3.031942  1.094374  1.324364  0.918690  \n",
       "\n",
       "[2521 rows x 500 columns]"
      ]
     },
     "execution_count": 52,
     "metadata": {},
     "output_type": "execute_result"
    }
   ],
   "source": [
    "# Run the Monte Carlo simulation to forecast 10 years cumulative returns\n",
    "MC_eighty_twenty.calc_cumulative_return()\n"
   ]
  },
  {
   "cell_type": "code",
   "execution_count": 53,
   "metadata": {},
   "outputs": [
    {
     "data": {
      "image/png": "[encoded data removed]",
      "text/plain": [
       "<Figure size 432x288 with 1 Axes>"
      ]
     },
     "metadata": {
      "needs_background": "light"
     },
     "output_type": "display_data"
    }
   ],
   "source": [
    "# Visualize the 10-year Monte Carlo simulation by creating an\n",
    "# overlay line plot\n",
    "eighty_twenty_plot = MC_eighty_twenty.plot_simulation()\n"
   ]
  },
  {
   "cell_type": "code",
   "execution_count": 54,
   "metadata": {},
   "outputs": [
    {
     "data": {
      "image/png": "[encoded data removed]",
      "text/plain": [
       "<Figure size 432x288 with 1 Axes>"
      ]
     },
     "metadata": {
      "needs_background": "light"
     },
     "output_type": "display_data"
    }
   ],
   "source": [
    "# Visualize the probability distribution of the 10-year Monte Carlo simulation \n",
    "# by plotting a histogram\n",
    "eighty_twenty_plot = MC_eighty_twenty.plot_distribution()\n"
   ]
  },
  {
   "cell_type": "code",
   "execution_count": 55,
   "metadata": {},
   "outputs": [
    {
     "name": "stdout",
     "output_type": "stream",
     "text": [
      "count           500.000000\n",
      "mean              2.971367\n",
      "std               2.460454\n",
      "min               0.435122\n",
      "25%               1.559966\n",
      "50%               2.341617\n",
      "75%               3.624769\n",
      "max              33.717643\n",
      "95% CI Lower      0.663876\n",
      "95% CI Upper      8.722637\n",
      "Name: 2520, dtype: float64\n"
     ]
    },
    {
     "name": "stderr",
     "output_type": "stream",
     "text": [
      "C:\\Users\\CarlMikel\\Desktop\\Fintech-Workspace\\Weekly_Challenges\\Challenge5\\Starter_Code5\\Starter_Code\\MCForecastTools.py:172: FutureWarning: The series.append method is deprecated and will be removed from pandas in a future version. Use pandas.concat instead.\n",
      "  return metrics.append(ci_series)\n"
     ]
    }
   ],
   "source": [
    "# Generate summary statistics from the 10-year Monte Carlo simulation results\n",
    "# Save the results as a variable\n",
    "eighty_twenty_table = MC_eighty_twenty.summarize_cumulative_return()\n",
    "\n",
    "# Review the 10-year Monte Carlo summary statistics\n",
    "print(eighty_twenty_table)"
   ]
  },
  {
   "cell_type": "markdown",
   "metadata": {},
   "source": [
    "### Answer the following questions:"
   ]
  },
  {
   "cell_type": "markdown",
   "metadata": {},
   "source": [
    "#### Question: Using the current value of only the stock and bond portion of the member's portfolio and the summary statistics that you generated from the new Monte Carlo simulation, what are the lower and upper bounds for the expected value of the portfolio (with the new weights) with a 95% confidence interval?"
   ]
  },
  {
   "cell_type": "code",
   "execution_count": 56,
   "metadata": {},
   "outputs": [
    {
     "name": "stdout",
     "output_type": "stream",
     "text": [
      "66132.9\n"
     ]
    }
   ],
   "source": [
    "# Print the current balance of the stock and bond portion of the members portfolio\n",
    "print(total_stocks_bonds)\n"
   ]
  },
  {
   "cell_type": "code",
   "execution_count": 57,
   "metadata": {},
   "outputs": [
    {
     "name": "stdout",
     "output_type": "stream",
     "text": [
      "There is a 95% chance that the portfolio with a 80% weight in SPY and 20% in AGG over the next 10 years will end within in the range of $43904.07 and $576853.25.\n"
     ]
    }
   ],
   "source": [
    "# Use the lower and upper `95%` confidence intervals to calculate the range of the possible outcomes for the current stock/bond portfolio\n",
    "ci_lower_thirty_cumulative_return = round(eighty_twenty_table[8]*total_stocks_bonds,2)\n",
    "ci_upper_thirty_cumulative_return = round(eighty_twenty_table[9]*total_stocks_bonds,2)\n",
    "\n",
    "# Print the result of your calculations\n",
    "print(f\"There is a 95% chance that the portfolio\"\n",
    "      f\" with a 80% weight in SPY and 20% in AGG over the next 10 years will end within in the range of\"\n",
    "      f\" ${ci_lower_thirty_cumulative_return} and ${ci_upper_thirty_cumulative_return}.\")\n"
   ]
  },
  {
   "cell_type": "markdown",
   "metadata": {},
   "source": [
    "#### Question: Will weighting the portfolio more heavily to stocks allow the credit union members to retire after only 10 years?"
   ]
  },
  {
   "cell_type": "raw",
   "metadata": {},
   "source": [
    "**Answer** # With a much shorter time horizon and the addition of greater volatility and risk to the portfolio (80/20 split), credit union members are unlikely to retire after only 10 years with an upper band of $577,000 as opposed to a 30 year portfolio with a 60/40 split--which has an upper band of $2,200,000.  With all other factors equal, investing over a longer time frame is much more likely to produce higher returns than a shorter time frame."
   ]
  },
  {
   "cell_type": "code",
   "execution_count": null,
   "metadata": {},
   "outputs": [],
   "source": []
  }
 ],
 "metadata": {
  "kernelspec": {
   "display_name": "Python 3 (ipykernel)",
   "language": "python",
   "name": "python3"
  },
  "language_info": {
   "codemirror_mode": {
    "name": "ipython",
    "version": 3
   },
   "file_extension": ".py",
   "mimetype": "text/x-python",
   "name": "python",
   "nbconvert_exporter": "python",
   "pygments_lexer": "ipython3",
   "version": "3.9.12"
  }
 },
 "nbformat": 4,
 "nbformat_minor": 4
}
